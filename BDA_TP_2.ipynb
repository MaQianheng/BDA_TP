{
 "cells": [
  {
   "cell_type": "markdown",
   "metadata": {},
   "source": [
    "# Train the model"
   ]
  },
  {
   "cell_type": "markdown",
   "metadata": {},
   "source": [
    "[Sentiment140 dataset with 1.6 million tweets Dataset link](https://www.kaggle.com/kazanova/sentiment140)"
   ]
  },
  {
   "cell_type": "code",
   "execution_count": 13,
   "metadata": {},
   "outputs": [
    {
     "name": "stdout",
     "output_type": "stream",
     "text": [
      "Warning: Your Kaggle API key is readable by other users on this system! To fix this, you can run 'chmod 600 /home/pi/.kaggle/kaggle.json'\n",
      "Downloading sentiment140.zip to /home/pi/Documents/code/BDA_TP_2\n",
      "100%|██████████████████████████████████████| 80.9M/80.9M [00:24<00:00, 4.71MB/s]\n",
      "100%|██████████████████████████████████████| 80.9M/80.9M [00:24<00:00, 3.45MB/s]\n"
     ]
    }
   ],
   "source": [
    "# Download training data\n",
    "# dataset link: https://www.kaggle.com/kazanova/sentiment140\n",
    "!kaggle datasets download -d kazanova/sentiment140"
   ]
  },
  {
   "cell_type": "code",
   "execution_count": 14,
   "metadata": {},
   "outputs": [
    {
     "name": "stdout",
     "output_type": "stream",
     "text": [
      "total 82892\r\n",
      "-rw-r--r-- 1 pi     3241 Apr 15 10:46  BDA_TP_2.ipynb\r\n",
      "-rw-r--r-- 1 pi     9168 Apr 15 10:39 'IzFMXDCGhXX56ZBYHScq%2Fversions%2FWYvuo7hrdNvvgqIc3YBx%2Ffiles%2Ftraining.1600000.processed.noemoticon.csv?datasetVersionNumber=2'\r\n",
      "drwxr-xr-x 2 pi     4096 Apr 15 09:56  \u001b[0m\u001b[01;34mresources\u001b[0m/\r\n",
      "-rw-r--r-- 1 pi 84855679 Apr 15 10:48  \u001b[01;31msentiment140.zip\u001b[0m\r\n",
      "-rw-r--r-- 1 pi     2564 Apr 15 10:15  test.ipynb\r\n"
     ]
    }
   ],
   "source": [
    "ll"
   ]
  },
  {
   "cell_type": "code",
   "execution_count": 15,
   "metadata": {},
   "outputs": [
    {
     "name": "stdout",
     "output_type": "stream",
     "text": [
      "Archive:  sentiment140.zip\n",
      "  inflating: training.1600000.processed.noemoticon.csv  \n"
     ]
    }
   ],
   "source": [
    "!unzip sentiment140.zip"
   ]
  },
  {
   "cell_type": "code",
   "execution_count": 16,
   "metadata": {},
   "outputs": [
    {
     "name": "stdout",
     "output_type": "stream",
     "text": [
      "total 316100\r\n",
      "-rw-r--r-- 1 pi      2230 Apr 15 10:48  BDA_TP_2.ipynb\r\n",
      "-rw-r--r-- 1 pi      9168 Apr 15 10:39 'IzFMXDCGhXX56ZBYHScq%2Fversions%2FWYvuo7hrdNvvgqIc3YBx%2Ffiles%2Ftraining.1600000.processed.noemoticon.csv?datasetVersionNumber=2'\r\n",
      "drwxr-xr-x 2 pi      4096 Apr 15 09:56  \u001b[0m\u001b[01;34mresources\u001b[0m/\r\n",
      "-rw-r--r-- 1 pi  84855679 Apr 15 10:48  \u001b[01;31msentiment140.zip\u001b[0m\r\n",
      "-rw-r--r-- 1 pi      2564 Apr 15 10:15  test.ipynb\r\n",
      "-rw-r--r-- 1 pi 238803811 Sep 21  2019  training.1600000.processed.noemoticon.csv\r\n"
     ]
    }
   ],
   "source": [
    "ll"
   ]
  },
  {
   "cell_type": "code",
   "execution_count": 17,
   "metadata": {},
   "outputs": [],
   "source": [
    "mv training.1600000.processed.noemoticon.csv resources/"
   ]
  },
  {
   "cell_type": "code",
   "execution_count": 10,
   "metadata": {},
   "outputs": [
    {
     "name": "stdout",
     "output_type": "stream",
     "text": [
      "20/04/15 11:44:41 WARN util.NativeCodeLoader: Unable to load native-hadoop library for your platform... using builtin-java classes where applicable\r\n"
     ]
    }
   ],
   "source": [
    "!hdfs dfs -put /home/pi/Documents/code/BDA_TP_2/resources/training.1600000.processed.noemoticon.csv /user/pi/sentiment_analysis/resources"
   ]
  },
  {
   "cell_type": "code",
   "execution_count": 18,
   "metadata": {},
   "outputs": [],
   "source": [
    "rm sentiment140.zip"
   ]
  },
  {
   "cell_type": "code",
   "execution_count": 19,
   "metadata": {},
   "outputs": [
    {
     "name": "stdout",
     "output_type": "stream",
     "text": [
      "total 12\r\n",
      "-rw-r--r-- 1 pi 2230 Apr 15 10:48 BDA_TP_2.ipynb\r\n",
      "drwxr-xr-x 2 pi 4096 Apr 15 10:49 \u001b[0m\u001b[01;34mresources\u001b[0m/\r\n",
      "-rw-r--r-- 1 pi 2564 Apr 15 10:15 test.ipynb\r\n"
     ]
    }
   ],
   "source": [
    "ll"
   ]
  },
  {
   "cell_type": "code",
   "execution_count": 1,
   "metadata": {},
   "outputs": [],
   "source": [
    "import pandas as pd"
   ]
  },
  {
   "cell_type": "code",
   "execution_count": 11,
   "metadata": {},
   "outputs": [],
   "source": [
    "data = pd.read_csv('./resources/training.1600000.processed.noemoticon.csv', \\\n",
    "                   encoding='ISO-8859-1', \\\n",
    "                   names=[\"target\", \"ids\", \"date\", \"flag\", \"user\", \"text\"])"
   ]
  },
  {
   "cell_type": "code",
   "execution_count": 12,
   "metadata": {},
   "outputs": [
    {
     "name": "stdout",
     "output_type": "stream",
     "text": [
      "         target         ids                          date      flag  \\\n",
      "0             0  1467810369  Mon Apr 06 22:19:45 PDT 2009  NO_QUERY   \n",
      "1             0  1467810672  Mon Apr 06 22:19:49 PDT 2009  NO_QUERY   \n",
      "2             0  1467810917  Mon Apr 06 22:19:53 PDT 2009  NO_QUERY   \n",
      "3             0  1467811184  Mon Apr 06 22:19:57 PDT 2009  NO_QUERY   \n",
      "4             0  1467811193  Mon Apr 06 22:19:57 PDT 2009  NO_QUERY   \n",
      "...         ...         ...                           ...       ...   \n",
      "1599995       4  2193601966  Tue Jun 16 08:40:49 PDT 2009  NO_QUERY   \n",
      "1599996       4  2193601969  Tue Jun 16 08:40:49 PDT 2009  NO_QUERY   \n",
      "1599997       4  2193601991  Tue Jun 16 08:40:49 PDT 2009  NO_QUERY   \n",
      "1599998       4  2193602064  Tue Jun 16 08:40:49 PDT 2009  NO_QUERY   \n",
      "1599999       4  2193602129  Tue Jun 16 08:40:50 PDT 2009  NO_QUERY   \n",
      "\n",
      "                    user                                               text  \n",
      "0        _TheSpecialOne_  @switchfoot http://twitpic.com/2y1zl - Awww, t...  \n",
      "1          scotthamilton  is upset that he can't update his Facebook by ...  \n",
      "2               mattycus  @Kenichan I dived many times for the ball. Man...  \n",
      "3                ElleCTF    my whole body feels itchy and like its on fire   \n",
      "4                 Karoli  @nationwideclass no, it's not behaving at all....  \n",
      "...                  ...                                                ...  \n",
      "1599995  AmandaMarie1028  Just woke up. Having no school is the best fee...  \n",
      "1599996      TheWDBoards  TheWDB.com - Very cool to hear old Walt interv...  \n",
      "1599997           bpbabe  Are you ready for your MoJo Makeover? Ask me f...  \n",
      "1599998     tinydiamondz  Happy 38th Birthday to my boo of alll time!!! ...  \n",
      "1599999   RyanTrevMorris  happy #charitytuesday @theNSPCC @SparksCharity...  \n",
      "\n",
      "[1600000 rows x 6 columns]\n"
     ]
    }
   ],
   "source": [
    "print(data)"
   ]
  },
  {
   "cell_type": "code",
   "execution_count": 14,
   "metadata": {},
   "outputs": [],
   "source": [
    "def decode_sentiment(row):\n",
    "    label = row._c0\n",
    "    return int(label)"
   ]
  },
  {
   "cell_type": "code",
   "execution_count": 1,
   "metadata": {},
   "outputs": [],
   "source": [
    "def preprocess(row):\n",
    "    import re\n",
    "    import nltk\n",
    "    from nltk.corpus import stopwords\n",
    "    from nltk.stem import SnowballStemmer\n",
    "    nltk.data.path.append('/home/pi/nltk_data')\n",
    "    TEXT_CLEANING_RE = \"@\\S+|https?:\\S+|http?:\\S|[^A-Za-z0-9]+\"\n",
    "    stop_words = stopwords.words(\"english\")\n",
    "    stemmer = SnowballStemmer(\"english\")\n",
    "    text = row._c5\n",
    "    stem=False\n",
    "    # Remove link,user and special characters\n",
    "    text = re.sub(TEXT_CLEANING_RE, ' ', str(text).lower()).strip()\n",
    "    tokens = []\n",
    "    for token in text.split():\n",
    "        if token not in stop_words:\n",
    "            if stem:\n",
    "                tokens.append(stemmer.stem(token))\n",
    "            else:\n",
    "                tokens.append(token)\n",
    "    return \" \".join(tokens)"
   ]
  },
  {
   "cell_type": "code",
   "execution_count": 1,
   "metadata": {},
   "outputs": [],
   "source": [
    "from pyspark import SparkConf, SparkContext, SQLContext"
   ]
  },
  {
   "cell_type": "code",
   "execution_count": 2,
   "metadata": {},
   "outputs": [],
   "source": [
    "conf = SparkConf().setMaster(\"yarn\").setAppName(\"sentiment_analysis\")\n",
    "# spark_session = SparkSession.builder.getOrCreate()"
   ]
  },
  {
   "cell_type": "code",
   "execution_count": 3,
   "metadata": {},
   "outputs": [
    {
     "data": {
      "text/plain": [
       "<pyspark.conf.SparkConf at 0xaf309ef0>"
      ]
     },
     "execution_count": 3,
     "metadata": {},
     "output_type": "execute_result"
    }
   ],
   "source": [
    "conf.set('spark.executor.instances', 3)"
   ]
  },
  {
   "cell_type": "code",
   "execution_count": 4,
   "metadata": {},
   "outputs": [],
   "source": [
    "sc = SparkContext(conf = conf)"
   ]
  },
  {
   "cell_type": "code",
   "execution_count": 5,
   "metadata": {},
   "outputs": [],
   "source": [
    "spark = SQLContext(sc)"
   ]
  },
  {
   "cell_type": "code",
   "execution_count": 5,
   "metadata": {},
   "outputs": [],
   "source": [
    "data = spark.read.csv('/user/pi/sentiment_analysis/resources/training.1600000.processed.noemoticon.csv', \\\n",
    "                      encoding='ISO-8859-1')"
   ]
  },
  {
   "cell_type": "code",
   "execution_count": 5,
   "metadata": {},
   "outputs": [
    {
     "data": {
      "text/plain": [
       "pyspark.sql.dataframe.DataFrame"
      ]
     },
     "execution_count": 5,
     "metadata": {},
     "output_type": "execute_result"
    }
   ],
   "source": [
    "type(data)"
   ]
  },
  {
   "cell_type": "code",
   "execution_count": 6,
   "metadata": {},
   "outputs": [],
   "source": [
    "data_text = data.rdd.map(preprocess)"
   ]
  },
  {
   "cell_type": "code",
   "execution_count": 9,
   "metadata": {},
   "outputs": [
    {
     "data": {
      "text/plain": [
       "['awww bummer shoulda got david carr third day',\n",
       " 'upset update facebook texting might cry result school today also blah',\n",
       " 'dived many times ball managed save 50 rest go bounds',\n",
       " 'whole body feels itchy like fire',\n",
       " 'behaving mad see',\n",
       " 'whole crew',\n",
       " 'need hug',\n",
       " 'hey long time see yes rains bit bit lol fine thanks',\n",
       " 'nope',\n",
       " 'que muera',\n",
       " 'spring break plain city snowing',\n",
       " 'pierced ears',\n",
       " 'bear watch thought ua loss embarrassing',\n",
       " 'counts idk either never talk anymore',\n",
       " 'would first gun really though zac snyder doucheclown',\n",
       " 'wish got watch miss iamlilnicki premiere',\n",
       " 'hollis death scene hurt severely watch film wry directors cut',\n",
       " 'file taxes',\n",
       " 'ahh ive always wanted see rent love soundtrack',\n",
       " 'oh dear drinking forgotten table drinks',\n",
       " 'day get much done',\n",
       " 'one friend called asked meet mid valley today time sigh',\n",
       " 'baked cake ated',\n",
       " 'week going hoped',\n",
       " 'blagh class 8 tomorrow',\n",
       " 'hate call wake people',\n",
       " 'going cry sleep watching marley',\n",
       " 'im sad miss lilly',\n",
       " 'ooooh lol leslie ok leslie get mad',\n",
       " 'meh almost lover exception track gets depressed every time',\n",
       " 'some1 hacked account aim make new one',\n",
       " 'want go promote gear groove unfornately ride may b going one anaheim may though',\n",
       " 'thought sleeping option tomorrow realizing evaluations morning work afternoon',\n",
       " 'awe love 1 miss',\n",
       " 'cry asian eyes sleep night',\n",
       " 'ok sick spent hour sitting shower cause sick stand held back puke like champ bed',\n",
       " 'ill tell ya story later good day ill workin like three hours',\n",
       " 'sorry bed time came gmt 1',\n",
       " 'either depressing think even want know kids suitcases',\n",
       " 'bed class 8 12 work 12 3 gym 3 5 6 class 6 10 another day gonna fly miss girlfriend',\n",
       " 'really feel like getting today got study tomorrows practical exam',\n",
       " 'reason teardrops guitar one enough break heart',\n",
       " 'sad sad sad know hate feeling wanna sleep still',\n",
       " 'awww soo wish see finally comfortable im sad missed',\n",
       " 'falling asleep heard tracy girl body found sad heart breaks family',\n",
       " 'yay happy job also means less time',\n",
       " 'checked user timeline blackberry looks like twanking still happening ppl still probs w bgs uids',\n",
       " 'oh man ironing jeancjumbe fave top wear meeting burnt',\n",
       " 'strangely sad lilo samro breaking',\n",
       " 'oh sorry think retweeting',\n",
       " 'broadband plan massive broken promise via www diigo com tautao still waiting broadband',\n",
       " 'wow tons replies may unfollow see friends tweets scrolling feed lot',\n",
       " 'duck chicken taking wayyy long hatch',\n",
       " 'put vacation photos online yrs ago pc crashed forget name site',\n",
       " 'need hug',\n",
       " 'sure pos much want dont think trade away company assets sorry andy',\n",
       " 'hate happens',\n",
       " 'sad feeling dallas going show gotta say though think shows would use music game mmm',\n",
       " 'ugh 92 degrees tomorrow',\n",
       " 'u move thought u already sd hmmm random u found glad hear yer well',\n",
       " 'miss ps3 commission wutcha playing copped blood sand',\n",
       " 'leaving parking lot work',\n",
       " 'life cool',\n",
       " 'sadly though never gotten experience post coitus cigarette never',\n",
       " 'nice day bad rain comes tomorrow 5am',\n",
       " 'bad around lost job even pay phone bill lmao aw shucks',\n",
       " 'damm back school tomorrow',\n",
       " 'mo jobs money hell min wage 4 f n clams hour',\n",
       " 'forever see soon',\n",
       " 'agreed saw failwhale allllll day today',\n",
       " 'oh haha dude dont really look em unless someone says hey added sorry terrible need pop',\n",
       " 'sure right need start working nikster jared least',\n",
       " 'really hate people diss bands trace clearly ugly',\n",
       " 'gym attire today puma singlet adidas shorts black business socks leather shoes lucky run cute girls',\n",
       " 'show location',\n",
       " 'picnic phone smells like citrus',\n",
       " 'donkey sensitive comments nevertheless glad see mug asap charger still awol',\n",
       " 'new csi tonight fml',\n",
       " 'think arms sore tennis',\n",
       " 'wonders someone u like much make unhappy split seccond depressed',\n",
       " 'sleep soon hate saying bye see tomorrow night',\n",
       " 'got ur newsletter fares really unbelievable shame already booked paid mine',\n",
       " 'missin boo',\n",
       " 'itm',\n",
       " 'damn chalk chalkboard useless',\n",
       " 'blast getty villa hates sore throat day getting worse',\n",
       " 'hey missed ya meeting sup mama',\n",
       " 'tummy hurts wonder hypnosis anything working get stop smoking',\n",
       " 'always fat ones',\n",
       " 'sorry babe fam annoys thankfully asleep right muahaha evil laugh',\n",
       " 'paid attention covered photoshop webpage design class undergrad',\n",
       " 'wednesday b day know 2',\n",
       " 'poor cameron hills',\n",
       " 'pray please ex threatening start sh babies 1st birthday party jerk still headache',\n",
       " 'hmm u really enjoy problems constants u think things find someone ulike',\n",
       " 'strider sick little puppy',\n",
       " 'rylee grace wana go steve party sadly since easter wnt b able 2 much ohh well',\n",
       " 'hey actually one bracket pools bad one money',\n",
       " 'follow either work',\n",
       " 'bad nite favorite teams astros spartans lose nite w good',\n",
       " 'body missing northern calif girl found police found remains missing northern california girl',\n",
       " 'hope increase capacity fast yesterday pain got fail whale 15 times 2 hours',\n",
       " 'behind classes work',\n",
       " 'watching quot house quot',\n",
       " 'remember bum leg strikes back time serious',\n",
       " 'cool kinds complaints laptop online overheating recalls',\n",
       " 'emily glad mommy done training new job misses',\n",
       " 'would rather first party send bad messages 3rd party send mixed ones sophmore year',\n",
       " 'overrated',\n",
       " 'know heard afternoon wondered thing moscow behind times',\n",
       " 'laying bed voice',\n",
       " 'sooo sad killed kutner house whyyyyyyyy',\n",
       " 'sorry tell mea culpa really sorry',\n",
       " 'make sense suicide thing refuse believe actually happened',\n",
       " 'hope ok',\n",
       " 'damn grind inspirational saddening time want stop cuz like u much love',\n",
       " 'yeah aw know wudnt stand chance',\n",
       " 'ugh cant sleep 1 30am',\n",
       " 'hanging crooners wanna sing sucks',\n",
       " 'aaw miss ya im leaving bh tomorrow quot morning quot think aww wanna go beach w u girls',\n",
       " 'pissed asba radio station',\n",
       " 'wednesday b day n know 2',\n",
       " 'know life flipped upside thought head ramen sounds good',\n",
       " 'pain back sides hurt mention crying made fail',\n",
       " 'late night snack glass oj b c quot sickness quot back sleep ugh hate getting sick',\n",
       " 'big fan camilla belle',\n",
       " 'wah see clip must el stupido work filters wait till get puter something else 2 blame ex 4 broke mine',\n",
       " 'week seems get longer longer terms much need much actually going get done',\n",
       " 'cold',\n",
       " 'ehhh weather gonna take turn ugly tomorrow',\n",
       " 'haha cooooold still go show incredible stuff',\n",
       " 'hoping tummy rumbles go away soon',\n",
       " 'notice told working tomorrow called agency follow said',\n",
       " 'almost bedtime',\n",
       " 'missing babe long alive happy yawwwnn tired love imma try sleep hopefully headstart',\n",
       " 'agh snow',\n",
       " 'miss kenny powers',\n",
       " 'thank letting people know sad direct message got actually bridget',\n",
       " 'india missed 100th test victory n 10th consecutive win without loss',\n",
       " 'guess',\n",
       " 'sadly going bed',\n",
       " 'shame hear stephan',\n",
       " 'hey leavin morning',\n",
       " 'intending finish editing 536 page novel manuscript tonight probably happen 12 pages left',\n",
       " 'laid around much today head hurts',\n",
       " 'still read 9th amp 10th princess diaries saving francesca made cry end hmm easy books',\n",
       " 'nokia 1110 died',\n",
       " 'mom might breast cancer find anything like week worried',\n",
       " 'going sleep hoping tomorrow better day',\n",
       " 'lol wish understood daylight savings ended though breakfast hour later keep waking kids',\n",
       " 'lame',\n",
       " 'understand really',\n",
       " 'heroes season',\n",
       " 'living downtown sure much fun',\n",
       " 'calorie wise wish junk food calorie free ate thing sour skittles big ass cherry coke',\n",
       " 'man work hard',\n",
       " 'getting sick time hot tea studying sleeeep',\n",
       " 'getting eyebrows waxed pain',\n",
       " 'phantasy star yesterday going work',\n",
       " 'oh got macheist 3 0 apps sweet get espresso serial though although said sent oh well',\n",
       " 'picked mich st win get go feeling pretty good pick way tonight lost',\n",
       " 'alone downstairs working',\n",
       " 'feel bad',\n",
       " 'hates anoop mean seriously kinda mean',\n",
       " 'yes sprint 4g baltimore chicago far',\n",
       " 'stuck awake middle night second day row felt terrible yesterday',\n",
       " 'thanks bursting bubble',\n",
       " 'going school soon find anything wear gosh hard',\n",
       " 'serious lol',\n",
       " 'page sooooo long got deleted sad day history',\n",
       " 'crazy wind today birding',\n",
       " 'currently work',\n",
       " 'grrr ipods acting weird jai ho thinking playing full songs ughh',\n",
       " 'send dvd cos missed heaps happy',\n",
       " 'see big deal website',\n",
       " 'sorry go therapyfail',\n",
       " 'far way rail tips',\n",
       " 'still swear keep losing gaining losing gaining tweeps heart wrenching',\n",
       " 'today realized good hiding things even find',\n",
       " 'staying friends house house sitting neighbors loud party',\n",
       " 'danny im upset wasnt watch live chat car 3 hours trip im soooo upset',\n",
       " 'check mug',\n",
       " 'borders closed 10',\n",
       " 'downloading nin new album quot slip quot hell come behind times days',\n",
       " 'woke already written e mail go early university today teach 8 30',\n",
       " 'watching hill making sad',\n",
       " 'many channels yet boring lazy day may find hobby',\n",
       " 'miss buddy ill ny 25th',\n",
       " 'love french tell people south qtr french snarl french beautiful people',\n",
       " 'opps said still got one day remain problem come',\n",
       " 'activated selfcontrol block early meaning check new qc regularizing internal clock might difficult fb',\n",
       " 'oh',\n",
       " 'spencer good guy',\n",
       " 'reese dying ttsc season finale next week 24 boring madame president crazy woman',\n",
       " 'hate limited letters hope guys fine pray dog well',\n",
       " 'get shit done today screwed',\n",
       " 'wanttss go',\n",
       " 'going sleep tonite',\n",
       " 'worried tired post tonight',\n",
       " 'get shit done today screwed',\n",
       " 'job interview cardiff today wish luck got 3 hours sleep',\n",
       " 'show whack way worse whack wiggety whack',\n",
       " 'really think people choose way think chose accept family help might dead',\n",
       " 'going kill seen ds9 waiting till one solid week sitting',\n",
       " 'think ur right hahaha 4 5 hrs',\n",
       " 'hate see spartans sad',\n",
       " 'mind body severely protesting quot getting quot thing nightmares boot',\n",
       " 'goin follow u since u lol go angels',\n",
       " '',\n",
       " 'think want read books library',\n",
       " 'nap interrupted many times today going japanese rents',\n",
       " 'kind longs bus shows end ghost world right ugh',\n",
       " 'canada canada weird supposed get snow wednesday ugh',\n",
       " 'awwh babs look sad underneith shop entrance quot yesterday musik quot like look new transformer movie',\n",
       " 'sad feet macbook fell',\n",
       " 'gonna get late tomorrow 132am gonna get tipsy lonesome sad',\n",
       " 'sweating forthcoming trip e3 find someone crash may screwed',\n",
       " 'gotten somebody read tweets cant get make account',\n",
       " 'omgawd couldnt handle cat heat time',\n",
       " 'hope make auburn show looking good',\n",
       " 'thats people mag haha couldnt fit dont think pictures ever made magazine tho haha',\n",
       " 'congrats totally forgot submit photos',\n",
       " 'awww good luck paula please work hard hope fun new album gonna amazing xxx',\n",
       " 'leaving gets sad',\n",
       " 'miss twitter phone broke using stupid nokia phone ughhh miss advance phone',\n",
       " 'shooting outside house kidding scared',\n",
       " 'tuesday start reflection n lecture stress reducing techniques sure might become useful us accompaniers',\n",
       " 'tragedy disaster news week',\n",
       " 'yes yes still trying find picture upload correclty',\n",
       " 'oh red sox game rained looking forward opening day',\n",
       " 'still find keys',\n",
       " 'know right dunno going twitter',\n",
       " 'might getting sore throat',\n",
       " 'home town mammy called depressd pls explain parent let 8yr old child walk alone hello 2009',\n",
       " 'think need find better anti depressants think paxil wellbutrin combo losing efficacy',\n",
       " 'restaurant called woodntap competitive eating tourney round tourney time place 2nd',\n",
       " 'bathroom wake lakin',\n",
       " 'want tacos margarhitas telll gay say hello lt 3',\n",
       " 'im lonely keep company 22 female california',\n",
       " 'bad day betfair office',\n",
       " 'miss wait celebrate tar heel win weekend though',\n",
       " 'really cold want go sleep yet nothing',\n",
       " '4 u officially 4 go round',\n",
       " 'monkeys found twin wont even write back heartbroken',\n",
       " 'aww know felt like yesterday work',\n",
       " 'treaty defined',\n",
       " 'missed brent praise band fun lead guitarist lt pout gt',\n",
       " 'poor john happens play fruit microwave seriously though seen doctor xxx',\n",
       " 'missing bff watching home away reminds lt 3 shout u courts',\n",
       " '',\n",
       " 'new video card doa',\n",
       " 'feeling lost naked confused jk sort iphone',\n",
       " 'damn late filling appraisal form people almost sent occupied work',\n",
       " 'missed brent praise band fun lead guitarist lt pout gt',\n",
       " 'think much past cant change deserved much wat got still thinking gah',\n",
       " 'lost ring seen',\n",
       " 'ooooooh sealclap see download shitloads zip folders 4chan internet moneys fuck yeah alicia amp mikey',\n",
       " 'still nursing nile glad feeling better hate baby sick',\n",
       " 'fucked go back ic',\n",
       " 'yoyoyo internet rude tonight reconnected go bed',\n",
       " 'well uni stuff netball netbal done uni stuff',\n",
       " 'poor',\n",
       " 'help forget 8th april amp 13th july',\n",
       " 'dierks bentley comin columbus oh wanna go bad',\n",
       " 'take sidekick back',\n",
       " 'congrats totally jealous wish xm working',\n",
       " 'gr8t face itchy',\n",
       " 'poor socks luvvvvv golden retriever want one sighhhh',\n",
       " 'saw found tracy girl piece luggage fucking terrible',\n",
       " 'aaaaand nausea back',\n",
       " 'ooh excited even going 2 long love youtube',\n",
       " 'spent 1 hour reach axis bank find today holiday mahavir jayanti contd',\n",
       " 'agree jobros dont update theres often',\n",
       " 'hilarious linked clip lj time ago went back dead link',\n",
       " 'oooooooo im neither thats need study',\n",
       " 'tweeted nearly day posted website tonight hopefully goes well night time',\n",
       " 'miss bentley',\n",
       " 'seriously needs finish job applications',\n",
       " 'son vincas sick stay home three tense days work back holiday kids',\n",
       " 'whinging client amp boss understand english well rewrote text unreadable written v good writer amp reviewed correctly',\n",
       " 'want ever punch',\n",
       " 'sooo sick snow ughh',\n",
       " '',\n",
       " 'work fan upset',\n",
       " 'would like apologize repeated video games live related tweets going stern discussion koodo soon stern',\n",
       " 'cant figure get back pay hotel etc',\n",
       " 'fml much seniority bc technological ineptness quot register quot classes',\n",
       " 'feels like slept day away looking forward bouts gallbladder least pills pain',\n",
       " 'really want old bass back',\n",
       " 'mad tired today callin early tonight nighty night twittas',\n",
       " 'take easy good',\n",
       " 'afraid bad code',\n",
       " 'think going bed goodniight hate',\n",
       " 'friend love',\n",
       " 'time notice gone needed db2',\n",
       " 'bathroom pee',\n",
       " 'wanted margarita',\n",
       " 'yup night workouts r worst unfortunetly work schedule allows go night tough',\n",
       " 'called hillsong said tell waiting list know looking good',\n",
       " '0g milky bar left around 200ml coke',\n",
       " 'stillllll arrived',\n",
       " 'mraow feel like dancing first art school wants rape',\n",
       " 'ah bet like craving play softball basketball noo time',\n",
       " 'terrified accidentally deleted reference management assignment hopes doesnt get trouble gets back',\n",
       " 'amazon s3 plugin worked website need php 5 hosting provider php 4 4 sad',\n",
       " 'argh suuuper sleepy hour ago wide awake hope stay night',\n",
       " 'wish sold time let know would love hear',\n",
       " 'watched tropic thunder dreading tomorrow',\n",
       " 'still miss n',\n",
       " 'chiefdelphi',\n",
       " 'according bro new puppy poo fight covered poop picture stolen',\n",
       " 'playing game home new boss call yet',\n",
       " 'su yin huen tweeted feel unbearable guilt made staff cry',\n",
       " 'poor joshy sick damn tejanos',\n",
       " 'thoughts sandra cantu family difficult sad time',\n",
       " 'know wanted let everybody know happening',\n",
       " 'michigan know sigh shameful',\n",
       " 'fill two hours',\n",
       " 'cuuute hey miss na seeing girls everyday',\n",
       " 'oh mention quot gooooood moooorniiiiiiing quot germany im back cage better office',\n",
       " 'throat closing string cheese good idea',\n",
       " 'aww sandra cantu found dead suitcase missing children stories never seem go good poor family',\n",
       " 'wishing home underneath covers',\n",
       " 'walking home school drains energy',\n",
       " 'agree shapeshifting copout excited angela ep thought week noah awesome tho',\n",
       " 'dang would done knew earlier outings planned',\n",
       " 'wish better writing taking long write paper',\n",
       " 'course access halo 3 mythic map pack download bad news legendary map pack ugh 600ms',\n",
       " 'yet unfortunately another weeks told little bit busy latest project',\n",
       " 'ha sun already gone',\n",
       " 'day 2 lot harder day 1 let see day 3 goes tomorrow',\n",
       " 'man crush jake peavy let gayforpeavy',\n",
       " 'megafast trip time day tom weds going tonight want see bad tried warn tech fail',\n",
       " 'michigan state make sad',\n",
       " 'omg mouth much pain wanna sleep untill time take braces',\n",
       " 'getting annoyed easily today gt gt gt biofuel proposal getting annoyed easily today gt gt gt biof',\n",
       " 'hey girl site back girlyvue back even videos',\n",
       " 'spending time grandma early tomorrow leave skittles',\n",
       " 'got home watching michigan state get tromped',\n",
       " 'oh jew bus two years worth classes work alot organize gt lt finishing tonight possible bones ache',\n",
       " 'exchanging laptop arrived',\n",
       " 'hope last long feel miserable',\n",
       " 'rachel hang outage neccessary gonna home wekend dumb folk make work im free f sat 4',\n",
       " 'fun amp furious new mantra bay 2 breakers getting 2 rambunctious city overreacted amp clamped',\n",
       " 'hubby reason thinks important good spot red carpet trek movie premiere sod',\n",
       " 'swear matter long getting 5am never gets easier man eyes hurts wah',\n",
       " 'jeffree keep hair one color permanent dye fades within week',\n",
       " 'reaction whoa see coming',\n",
       " 'still sick feeling bit better got new medicine hope feel good night sleep ohh suppose snow wtf',\n",
       " 'think maybe get couple hours sleep hon productive right ur dog tired worry',\n",
       " 'thanks lot learned lot new words find looking',\n",
       " 'wish xblm downloads gamertag hitokyri 5 gamertag thing nonsense tired',\n",
       " 'new testament test 9 30',\n",
       " 'tons hay troll ahhhh',\n",
       " 'stupid movies watched mirrors ugggggh stooopeeed rip',\n",
       " 'love buck',\n",
       " 'last one still done',\n",
       " 'homework',\n",
       " 'understand things get taken away enough time unfair want back like baby',\n",
       " 'scratch du heif two half cookies tum take anymore shoog poots',\n",
       " 'listening sweets first time forever miss much go chi town visits plz',\n",
       " 'geez busy afternoon meetings emails meetings email meetings 6pm day still going ah dark',\n",
       " 'dang another spring break cool bad work week oh well money phone ttyl everbody',\n",
       " 'im afraid ur reply uni ages ago',\n",
       " 'feeling',\n",
       " 'lol emotional ass men omg late night eating us broke',\n",
       " 'aww nick like hair longer cut break heart',\n",
       " 'wonder jon lost net',\n",
       " 'wow depressing thing world losing video created matter seconds fml',\n",
       " 'says stock',\n",
       " 'lmao im sorry poohpot ate',\n",
       " 'chance softbelly mtub loud',\n",
       " 'time move posterior lose fat articulation creaking running drool swimming',\n",
       " 'listening nathan cry',\n",
       " 'today sucked gonna die without chris callum wahhh',\n",
       " 'stou site update info 2 2552 exam open course must wait mail notices doc um',\n",
       " 'sorry feeling kinda yucky 5am going come quick',\n",
       " 'love scrappy missin already',\n",
       " 'wants hear seblefebvre song myspace messing',\n",
       " 'bad news dad cancer dying good news new business started life coach practising holistic weight management',\n",
       " 'man intervention soo sad',\n",
       " 'help need new boyfriend stuck rut',\n",
       " 'feel like complete idiot one get shit works help',\n",
       " 'saw ad craigslist casting call female host g4 totally psyched realized hoax',\n",
       " 'pepperoni rolls l called valentino said sausage rolls pepperoni rolls',\n",
       " 'yes monday',\n",
       " 'want new gg episode already',\n",
       " 'miss watching rocko modern life',\n",
       " 'rip sandra sad someone something like',\n",
       " 'keeping fingers crossed buddy feeling well',\n",
       " 'wait eat skinny vegas hungry',\n",
       " 'tried tweetdeck hated passion hated sure',\n",
       " 'btw iphone acting funny dying quickly freezing bs admitting anything sayin',\n",
       " 'sitting wondering quot ed quot still strong hold',\n",
       " 'im sorry got sick lol going bed night',\n",
       " 'internet home drive ox use internet builders',\n",
       " 'weather canada freezing',\n",
       " 'twiggassssssss range day back hopefully good',\n",
       " '',\n",
       " 'anyone reads pray grandma pain',\n",
       " '3 woke accident quot pushing pushing quot crying stop wetting pants',\n",
       " 'home franklin street almost jumped fire someone kicked could jenny lost shoe',\n",
       " 'hey changed default',\n",
       " 'finally gave bored enough start thing think 140 going problem tho like myspace status',\n",
       " 'oooonly really lucky eh awh definitely early work',\n",
       " 'buttload homework',\n",
       " 'needs another copy visual studio 2008',\n",
       " 'school world week school silly anyway look bright side u',\n",
       " 'omg economics test dont know things know omg im gonna fail',\n",
       " 'upon time hundred islands pride philippine tourism coral clam rare fish poaching kinda sad',\n",
       " 'yeah apparently really bad taste',\n",
       " 'know really surprised since everyone recommends youtube call tomorrow figure',\n",
       " 'waiting airport ride get harassed 2 men trying sell ugly hats want sleep',\n",
       " 'left ids location go bars fuckkkkkkkkkkkkk',\n",
       " 'sorry understand last comment',\n",
       " 'announcement stayed late last night',\n",
       " 'strange illegal torrents avlbl everywhere legal dvd stock',\n",
       " 'enough say imiss u',\n",
       " 'trolley packed like sardines padre game remove car good call mts',\n",
       " 'jeez trying help haha',\n",
       " 'happened saturday night along glittery green lighter',\n",
       " 'trying reduce number cigarettes day',\n",
       " 'yea quiet around cuz everyone work im bored death nobody talk',\n",
       " 'gotta cooking assignment hard',\n",
       " 'okay applepears talked people one ever told never',\n",
       " 'know night owl nature hahaha time zone behind almost 1',\n",
       " 'lol nope complete camerafail',\n",
       " 'megelder useless sleep fair want fun well',\n",
       " 'pookie uti nurse gabbie get back 100 sodas',\n",
       " 'tweet something damn hang please',\n",
       " '',\n",
       " 'behind video games everything matter yesterday news',\n",
       " 'one left got tempted ate soon got home chocolate velvet amp ate mocha',\n",
       " 'stressing blackberry keeps flashing red alert status reason faking hate',\n",
       " 'wanna wear doc martens worn since december',\n",
       " 'shoe repair shop guy could find shoes go back see find couple days',\n",
       " 'really see coming',\n",
       " 'woke vivid sketchy cool dreams life time stare wall lights',\n",
       " 'take 3 days sister get passport',\n",
       " 'oh yes miss',\n",
       " 'uh oh think getting sick',\n",
       " 'good god ruined belly button',\n",
       " 'watching framed roger rabbit makes miss toon town',\n",
       " 'renting cheap renting awesome house 3 buying attempts fall',\n",
       " 'running nose spinning head good combination meeting',\n",
       " 'negative lost vote confidence',\n",
       " 'nasty budget due iphone sent apple today',\n",
       " 'bad',\n",
       " 'dammit episode 3 kings play reason stopped middle anything',\n",
       " 'upset missed chat quiz online free internet ceased',\n",
       " 'believe disbelief way really much take people always get hurt others',\n",
       " 'car show season started without',\n",
       " 'throat raw',\n",
       " 'get persons mind could even ish like prayers fam real',\n",
       " 'hate need see need call therapist',\n",
       " 'twilight come yesterday fingers crossed today',\n",
       " 'glad able help feel better hate see sick love',\n",
       " 'tireddddddd want sleep assignment finish exam tomorrow study',\n",
       " 'know thinking need money',\n",
       " 'omg jst teusday',\n",
       " 'david henrie ummmmm cant find',\n",
       " 'heard found sandra cantu 8 yrs old',\n",
       " 'ive forgotten snoo snoo wonder snoo snoo ever meet',\n",
       " 'wow last tweet made seem like giant sexist sorry',\n",
       " 'bathtub drain fired haz 1 job 2 amp iz fail got drano ass amp iz still draining wanna shower dangit',\n",
       " 'stuck home',\n",
       " 'mine 1 10 get',\n",
       " 'duckling famous children book stolen boston public garden boston globe via sharethis oh',\n",
       " 'thank however hate list includes 2 convicts',\n",
       " 'heading altrincham hours install',\n",
       " 'morning good im bloody knackered work today helppp xxx',\n",
       " 'garage park driveway',\n",
       " 'happened',\n",
       " 'quot popular music quot w adorno probably difficult reading ever prescribed actually struggling continue',\n",
       " 'cant see flowers falling dont camera cellphone',\n",
       " 'good liking snow right getting used nice spring like weather',\n",
       " 'pity youtube currently blocked china see vids',\n",
       " 'happened show hightlight life',\n",
       " 'best leather sofa world office though means still working',\n",
       " 'still 3 days internet gets uncapped',\n",
       " 'get better days could something lodged belly',\n",
       " 'love atekinzz much amp amp soo miss',\n",
       " 'wanna sneak zoo play kitties',\n",
       " 'oh hope getting sick',\n",
       " 'dont think cause cousins birthday party',\n",
       " 'sweet little man fell asleep waiting daddy big brother get home poor baby missed much today',\n",
       " 'angel going miss athlete weekend',\n",
       " 'trust hard',\n",
       " 'watched considering today yaknow shawnna tomomorrow need bestfriend',\n",
       " 'grr want keep reading wont anything left read',\n",
       " 'atekinzz world',\n",
       " 'u supposed date',\n",
       " 'pears amp brie bottle cabernet quot win date tad hamilton quot oh gawwd life flashed forward 40 75 cats',\n",
       " 'crap need dresses',\n",
       " 'yeah know horrible ugh saddening',\n",
       " 'geez ur fun',\n",
       " 'wanna punk rock band',\n",
       " 'lot angst tuesday afternoon',\n",
       " 'glad britney crazy anymore one hell show sad next ap cook county',\n",
       " 'huuuge headache omg feel like crap',\n",
       " 'sorry',\n",
       " 'sorry rooting',\n",
       " 'man took forever',\n",
       " 'see',\n",
       " 'listing items ebay sell takes forever meanwhile coleman watching hills season premier without',\n",
       " 'got presentation done 23 slides done crying week hardest weeks',\n",
       " 'lost 160',\n",
       " 'like previously skins thing starts season two like went straight intro like',\n",
       " 'wish pretty good scaring shit people',\n",
       " 'going sound vain running fav lip gloss',\n",
       " 'never click link screams quot spider spider quot known better yucky',\n",
       " 'time work get sick',\n",
       " 'imac came 320 indonesia states',\n",
       " 'dammit need stop buying furniture',\n",
       " 'half asleep turned laptop',\n",
       " 'death peaceful life however bites',\n",
       " 'think jonathanrknight lost net sure hope',\n",
       " 'test footage girlfriend hd dark one underxposed',\n",
       " 'tough game watch tonight state finally going bed also staying watch season premiere hills',\n",
       " 'seems jruby support hpricot two versions behind',\n",
       " 'unlike sister still one',\n",
       " 'fraking app store pissing',\n",
       " 'logging need study',\n",
       " 'anyone else problems accessing ttb cant get',\n",
       " 'strongly dislike people make stupid comments dont know whole story',\n",
       " 'sorry emma swarley goldfish sad u',\n",
       " 'tweets already gone missed guys tonight',\n",
       " 'sleep face kinda swollen let allergic thing get thursday school tomorrow doubtful',\n",
       " 'izzy cat tree stare floor chases runs',\n",
       " 'officially banning godaddy com comp head hurts small print wasted 10 could happily gone boba',\n",
       " 'pretty much scary',\n",
       " 'mines finding well hard get fit',\n",
       " 'good morning ready 2 go want 2 go back 2 bed',\n",
       " 'hates waiting mails',\n",
       " 'wheat bread dollar store toast nicely going taxes calling early night',\n",
       " 'kutner mean knew something going happen someone sad lt 3 house well done still sad',\n",
       " 'aw ok goonite',\n",
       " 'ill cant go cinema',\n",
       " 'fell asleep really mean christina',\n",
       " 'hey remember time used friends ugh vomit sick need sleep',\n",
       " 'lymph nodes massive rahm emanuel balls right',\n",
       " 'oh computer sucks think able listen xbox 360 fancast tonite',\n",
       " 'missing playing trumpet',\n",
       " 'throat still really sore meant going 5 day camp friday sure',\n",
       " 'know exactly feel',\n",
       " 'work',\n",
       " 'well bed time 1 sighs back 6 mornings week wednesday',\n",
       " 'jesus camp yeah',\n",
       " 'oh everything happened today forgot going dress shopping opera tomorrow',\n",
       " 'turtles better mac lasts longer moves faster',\n",
       " 'soaked pleasant',\n",
       " 'sorry hear maggie thoughts mum',\n",
       " 'may email one hope feel better',\n",
       " 'dead yu gettin wen im leavin',\n",
       " 'please tell somewhere close california lol',\n",
       " '',\n",
       " 'stupid arranged marriages convert marry love',\n",
       " 'well said looser show implies',\n",
       " 'poor sandra cantu amp cantu family prayers go sick world live 8',\n",
       " 'fuck omg austins always though man lt 3 love',\n",
       " 'cried hard matthew died',\n",
       " 'sad feet macbook fell sad feet macbook fell',\n",
       " 'last find things like twitter',\n",
       " 'absolutely',\n",
       " 'filled curry true indian coming',\n",
       " 'im soooo cold right',\n",
       " 'lol kant believe cam got beat upp sooo embarasssiiiin',\n",
       " 'good knight hun looking forward ur tweets hate keep missing fun cuz time difference',\n",
       " 'tumblr exactly feels wearing tie',\n",
       " 'hahaa realized quot impune quot definitely isnt word wanted dang unclever',\n",
       " 'watching old videos dance team makes miss',\n",
       " 'wahh csi anywhere dvr ed love money 2 though gonna watch sleep goodnight tweeters lt 3',\n",
       " 'struggling hard inventory',\n",
       " 'hate us please',\n",
       " 'haha im ballin still got bills paaaaay',\n",
       " 'one days really want work home crap',\n",
       " 'wait game episodes confused',\n",
       " 'haha cried guess',\n",
       " 'get statistics bunch mumbo jumbo',\n",
       " 'got sadly works uk amp us moment',\n",
       " 'evicted',\n",
       " 'enjoy learning css',\n",
       " 'brian make fuck u lol replied 2 ur message u get miss u',\n",
       " 'dvr went watch apparently dish network went missed catch rerun',\n",
       " 'lmao u may wait another season come thru summe boo hot nd dry ass weather',\n",
       " 'set feet ground missing eyelid people might get',\n",
       " 'english professor would ashamed',\n",
       " 'wish frogs becoming extinct',\n",
       " 'came home cross county tired',\n",
       " 'want walk home snow wants pick',\n",
       " 'lauren stubborn loves love feel bad though made cry lol',\n",
       " 'grouchy wants bmar',\n",
       " 'heart broken every morning dropping foo pre school understand moms say quot heart broken quot',\n",
       " 'feeling well back hurts',\n",
       " 'im mood chocolate want miniature reeses cups',\n",
       " 'take heat like oven feel sick nwo',\n",
       " 'come chat 15 minutes please',\n",
       " 'boredd colddd internet keeps stuffing',\n",
       " 'horrible nightmare last night affected sleep really tired',\n",
       " 'im lonely keep company 22 female new york',\n",
       " 'lost st ignacius prepatory school haha',\n",
       " 'yeah really depressing stuff like gets',\n",
       " 'problem tongue cheek remark lots acronyms nz',\n",
       " 'hey said matt gonna go ballistic disappointed good ep tho mostly',\n",
       " 'ugh horrible ending sandra kantu story prayers go',\n",
       " 'hate 2 b allergic want puppy soo bad already thought cool names',\n",
       " 'morning folks 7 00 yawn amp away see horses hope twitter better behaved today last night travesty',\n",
       " 'miss mine',\n",
       " 'sorry hear loss many year far',\n",
       " 'gossip girl repeat',\n",
       " 'reckon',\n",
       " 'finding really hard use twitter',\n",
       " 'stuck house two days',\n",
       " 'really sad really know',\n",
       " '',\n",
       " 'maybe one years get tax return girl dream right',\n",
       " 'back work tired hell feel cold coming',\n",
       " 'knot2serious april 9th coming soon enough',\n",
       " 'cream eye may herpes ocular herpes different strain okay though',\n",
       " 'gotta repeat whole art folio cuz old one whole terms work got wet',\n",
       " 'ready weekend already monday',\n",
       " 'umm nope think im insomniac plus got flu lll sleepin like phuckin fish outta water minute',\n",
       " 'finland sleeping night really enough time',\n",
       " 'wait try em prolly wait next weekend earliest',\n",
       " 'shiner taking bed blankets',\n",
       " 'april 9th coming soon enough',\n",
       " 'wants cry',\n",
       " 'need go bank tomorrow go broke',\n",
       " 'earthquake italy sadden three hours away naples family',\n",
       " 'sleeping stressed week coming',\n",
       " 'yea working tp hack server 12player thing folks',\n",
       " 'hurt ankle going dr',\n",
       " 'oh noes manage send something trash empty without noticing feel ya',\n",
       " 'lost free copy radioactive put ipod grr go buy nother coz came paper',\n",
       " 'make shit',\n",
       " 'photoshop hate crash',\n",
       " 'vacations makes feel sick',\n",
       " 'gone',\n",
       " 'listening murd 9th wonder chillen missing crazy sex life',\n",
       " 'shooting careful luisa',\n",
       " 'sure everyone ruined gift whitney serious cell easter well',\n",
       " 'beso hollywood tired',\n",
       " 'want wake early tomorrow damn work',\n",
       " 'finished watching movie prayers bobby broke heart',\n",
       " 'myki really horrible',\n",
       " '2 put dog today someone ran',\n",
       " 'sorry hear dnf run tonight always risk get bad coords ftf',\n",
       " 'get disgruntled people wrote esn 1000 hits one day made bill pulls 250 tops',\n",
       " 'ohh omg lmao crying right lol kutnerrrr best',\n",
       " 'came back running took shower lower stomach still hurt exercising',\n",
       " 'watching fallon mom working project school hard',\n",
       " '56 min till home time counting craving visit mac store closed time get',\n",
       " 'sorry hear take care',\n",
       " 'hmmm greed good motivates individual better much takes away others',\n",
       " 'brat rub want mocha',\n",
       " 'kutnerrrr think 13 still show ugh kutner kal penn bright star ho',\n",
       " 'mom wish best luck',\n",
       " 'hate homeworks head hurts bad',\n",
       " 'got ebay blues item want jumped bidders 100 hour still 3 hours go better get hopes',\n",
       " 'know little depressed ate much last night leftovers today',\n",
       " 'well pc living room suffered fatal partion lost itunes library gone docs pics',\n",
       " 'sad day manu season',\n",
       " 'poor spunky sad rotti made 10 go path know feel',\n",
       " 'im sooo sad right need hug',\n",
       " 'wants step brother home im worried dont even know hope knows much care',\n",
       " 'got done watching hills loved excited next episode im sad last season',\n",
       " 'aww stinks hugs',\n",
       " 'tired feel like crap world feels crummy make happy usb disco mouse',\n",
       " 'dont want believe im reading buu sad',\n",
       " 'wondering gamebattles',\n",
       " 'white trash vs us outnumbered',\n",
       " 'true use',\n",
       " 'spring break last one celebrate',\n",
       " 'morning bah car start waiting anwb',\n",
       " 'pretty anti memorial tattoos strictest official ban disapproving family',\n",
       " 'balamurugan longterm member team leaving month miss working hope well next venture',\n",
       " 'sad knowing found body crazy world live child deserves ya know',\n",
       " 'wanna rock maxi dress coachella lacking funding',\n",
       " 'course baby screaming crib night first day back work let cry boooo',\n",
       " 'home missing baby busy week ahead fri chill day guy kids egg hunt sat spiral dmb sat night easter',\n",
       " 'never found everytime click twitter thing myspace goes dude page',\n",
       " 'horrible sorryto hear',\n",
       " 'cant find says dtmafiaofficial doesnt exist jus 1 dtmafia found n u dun seem b followin wht',\n",
       " 'thought would support',\n",
       " 'augh eff sarth stole mil nail polish pretty',\n",
       " 'wishes spring fling tour dawn amp neecee sigh g knight',\n",
       " 'hoyts distribution nz website working great like need',\n",
       " 'like first movie cillian murphy hot',\n",
       " 'wishes good old cartoons come back ie captain planet wally daria sadness',\n",
       " 'feeling v good abt',\n",
       " 'got text sarah',\n",
       " 'another day centre point time early start guessing train rammed commuters',\n",
       " 'four games fall modern warfare 2 halo 3 odst brutal legend bioshock 2 need cash',\n",
       " 'ugh disconcerting',\n",
       " 'actually whole site finally taken damn russians',\n",
       " 'tweets arent going',\n",
       " 'finished delicious breakfast last paris miss milk europe tastiest milk world drink us',\n",
       " 'ilearn great considering finals week',\n",
       " 'stressed outttt',\n",
       " 'also shouldve bern asleep hour ago',\n",
       " 'trying figure twitter thing none friends yet soo much see',\n",
       " 'pinging kyle44 custom icons made look cool edges could less square might look bad diff background',\n",
       " 'want back la',\n",
       " 'dunno use forum get frustrated miss talking',\n",
       " 'option',\n",
       " 'unfortunately one moments giant squid monster',\n",
       " 'want one branch midv open',\n",
       " 'aw sorry hear',\n",
       " 'change plans ordered macs instead time hit books',\n",
       " 'yup',\n",
       " 'see donnie tweet stats almost 700 replies jrk',\n",
       " 'nah received stimulus yet',\n",
       " 'seen ur tweet plz write bak u get havnt got one reply bak',\n",
       " 'awwwww trying go sleep 3 hours ago',\n",
       " 'sorry hear always sad lose close us loved',\n",
       " 'cant sleep im still feelin like piece shit',\n",
       " 'oh sympathies hard decision always hope old border collie go sleep 14 hug',\n",
       " 'well really cool part wont spoil',\n",
       " 'time warp without sad',\n",
       " 'true lol still slap face warm end march',\n",
       " 'hate converting movies put em itouch',\n",
       " 'gross pimple',\n",
       " 'yea naaaaaaaaaaaaaaaaaaaam marwan accent lol',\n",
       " 'one less follower tonight',\n",
       " 'mom last night brb figure whether burned',\n",
       " 'feel like quot twitterer quot tweetdeck',\n",
       " 'karate tournament 8 weeks',\n",
       " 'going sleep 1am finish statistics homework',\n",
       " 'north carolina baby aint nothin stopping nba draft',\n",
       " 'sleep',\n",
       " 'reaaly miss john mayer twitters fuck rude people remove like tweets bitchfucks',\n",
       " 'going late one mqu today',\n",
       " 'im tired work need life',\n",
       " 'leavin work feet hurt',\n",
       " 'sad unexpected totally cried haha',\n",
       " 'superneej morning bah car start waiting anwb',\n",
       " 'still homework',\n",
       " 'little sad',\n",
       " 'mom amp dad get around 6 early',\n",
       " 'asleep two hours ago',\n",
       " 'sorry hear dog',\n",
       " 'funny little things make homesick criminals breakn n2 brownstone lawnord ci made misty',\n",
       " 'yeah great vid 12 quot single sold years ago',\n",
       " 'im val mac iitsc clubroom still sweating',\n",
       " 'awww sad sorry',\n",
       " 'updatingffe gives nothing good twenty minutes',\n",
       " 'hot compress rily workng pulled muscle gng bed good night',\n",
       " 'invite quot healthy dining quot session ashok hotel today exec chef r chopra damn workload skip',\n",
       " 'sorry hear dog wishing happier days come',\n",
       " 'miss em',\n",
       " 'cool tweet apps razr 2',\n",
       " 'bed gotta wake hella early tomorrow morning',\n",
       " 'still procrastinating hate organizing clothes much',\n",
       " 'playing new mobbler v0 4 0 adds great new features play music e71 like v0 3 5',\n",
       " 'oh one bestie missing',\n",
       " 'time come back flawda double dates seriously sorry hear',\n",
       " 'way late working client 12 10 fb',\n",
       " 'blegghhhh go work',\n",
       " 'back work john muir dr',\n",
       " 'emailed yesterday u never responded',\n",
       " 'going long year fans',\n",
       " 'got done watching new house episode definitely one saddest episodes ever',\n",
       " 'man taxes suck horrified something wrong turbotax decided keep around lot stuff turned',\n",
       " 'sleep time tomorrow gonna suck',\n",
       " 'wtf kutner oh pissed house mean really wtf',\n",
       " 'know dont know said',\n",
       " 'cash rules everything around',\n",
       " 'picked oats market eat breakfast boy adamgoldston time work usc late night',\n",
       " 'feel sick much icecream',\n",
       " 'computer shockwave blah account yet',\n",
       " 'awww wish could go sydney',\n",
       " 'hahaha suriously feel like everyone knows show joke except lc',\n",
       " 'spell today totally suck',\n",
       " 'vaccinated chicken pox vaccinate 3 yr old confused damn thing',\n",
       " 'school least last day',\n",
       " 'yawwwn gotta get early tomorrow ready weekend',\n",
       " 'miss home calving season sad black one died morning wish bottle calves',\n",
       " 'sorry loss brother dog sam sick w cushings disease',\n",
       " 'back work get spend next 8 hours alone dispatch room',\n",
       " 'new kind starburst favereds sounds fab bc cherry strawberry fav red added watermellon yucky',\n",
       " 'well much productive 2 days angels',\n",
       " 'oh gee insomnia sucks tried melatonin',\n",
       " 'good hear support netbeans netbeans know',\n",
       " 'wish would get time rest world unfornately cairo wait mtva play',\n",
       " 'heartbroken little sandra prayers family',\n",
       " '900 words finish tomorrow maybe',\n",
       " 'come ur background covers screen mine corner',\n",
       " 'wrote exactly three lines dialogue tonight gave',\n",
       " 'complaint facebook changed much confusing',\n",
       " 'sliced finger',\n",
       " 'going thru town traffic bypass stink',\n",
       " 'ugh sleep wish good cuddle make ass',\n",
       " 'hate software update downloads updates without telling never know downloading',\n",
       " 'went ihop great diet least kung foo pancakes time rachel',\n",
       " 'internet hating night pose',\n",
       " 'jealous missed opening day year',\n",
       " 'cruel wait reviews come far looks like star trek best film year',\n",
       " 'debating shower sleep little later tomorrow',\n",
       " 'stress always culminates physical pain',\n",
       " 'need sleep cant',\n",
       " 'little pinky finger hurts much',\n",
       " 'sorry gift card ran suck',\n",
       " 'home spring break one home tho',\n",
       " 'accessed oneindia mobi google phone android support indic languages',\n",
       " 'school take life much get sleep anymore still school work well',\n",
       " 'aw wish could really speak yia yia speak english',\n",
       " 'free comp lol',\n",
       " 'getting ready clean house top bottom',\n",
       " 'crying friend moving away tomorrow',\n",
       " 'stop nomnoms share night peoples',\n",
       " 'thinks getting cold caught daddy oh trip would ruined',\n",
       " 'yeah bcoz kal penn visiting lecturer somewhere n cant show anymore im gonna miss',\n",
       " 'procrastination starts early quarter want reaaaaad write paper',\n",
       " 'apparently 52 degress 11pm washington state miss winter already',\n",
       " 'bored homee',\n",
       " 'massage great spilled coke desk lame watching simpsons finished hills dvds',\n",
       " 'wait fanclub chat even tough favorite',\n",
       " 'mild left inner ear infection got irritating quot blocked quot feeling since sunday',\n",
       " 'hey nope cuteness hoytfortenberry away awhile',\n",
       " 'tuesday',\n",
       " 'haha even yo know thang twitter haha',\n",
       " 'someones alarm clock phone woke 3am still got headache yesterday night',\n",
       " 'awww poor puppy ok',\n",
       " 'might break eat buffalo wings tomorrow',\n",
       " 'sittin w kayla really really reallly dis like brother know stop waiting day one',\n",
       " 'fed bokkie many birthday treats sicko',\n",
       " 'kinda bummed agency told look going ladies please help create look',\n",
       " 'work laptop officially dead happy',\n",
       " 'goodness freezing',\n",
       " 'put listen mom',\n",
       " 'stucked paris even travel france work',\n",
       " 'think one close last time checked closest one 70 miles away',\n",
       " 'aaaaand back literature review least friendly cup coffee keep company',\n",
       " 'worried get 900 even though paid buttload tax last year',\n",
       " 'okay still school',\n",
       " 'phoneless sleep',\n",
       " 'reeked alcohol dentist morning drunk put tshirt realised huge stain dentist looked disgusted',\n",
       " 'really cold',\n",
       " 'cant sleep wants dream',\n",
       " 'sleep hate nights try go bed early stay awake hours poo',\n",
       " 'yeah bad people like certain burrito eating man exist',\n",
       " 'sad',\n",
       " 'found mum adopted auntie twitter check mum tessm64 awesome auntie tania38',\n",
       " 'cannot sleep wide awake gotta go work later boy going crappy day',\n",
       " 'struggling eam law',\n",
       " 'sleep like',\n",
       " 'bouts start 24 poor linny keep eyes open tired work tomorrow morning night ilovefatsusan',\n",
       " '4 year old 18 year old driving around twist want like',\n",
       " 'well sucked',\n",
       " 'place 3 days help get packing painting cleaning much appreciated oh rip wall',\n",
       " 'opening partially frozen beer beer toaster oven counter kitchen smells like run speakeasy',\n",
       " 'dont even know ride',\n",
       " 'sadly yes think need counciling',\n",
       " 'making ready school feel like going two tests',\n",
       " 'smugness gone train also failed turn heading victoria followed unpleasant tube ride city',\n",
       " 'anybody know ipod went',\n",
       " 'aww earthquake italy made sad saw pics news terrible',\n",
       " 'never able afford get much rather go extraction continue deal',\n",
       " 'pet care people try run others business send suspicious e mails fishing info',\n",
       " 'lt 33 codez mia tho',\n",
       " 'doesnt work cell go sleep p',\n",
       " 'going nice tomorrow rain comes back nice weather birthday',\n",
       " 'rock band hard expert',\n",
       " 'roomie home day scratch door comforter goto large laundromat machines',\n",
       " 'one hardest thing schedule one chat end day usually',\n",
       " 'killed character one favorite shows upset',\n",
       " 'jealous friends got see new star trek film austin tonight',\n",
       " 'listening q got really bad headache drivin lesson ten mins lucky wana sleeep',\n",
       " 'shut hungry britain home boring suckassy breakfast world miss dennys',\n",
       " 'good morning everybody pkoi fais pas beau bon coffee time',\n",
       " 'work',\n",
       " 'essay time',\n",
       " 'hey u talk mom r home yet hope r ok wish coming home 4 easter',\n",
       " 'sure wish could go guys tmrw per usual school interferes',\n",
       " 'say kal penn leaving house noooooo awww totally missed tonight',\n",
       " 'lost loyal',\n",
       " 'played another hand bad lost half stack',\n",
       " '6 20pm early days looooooong night work',\n",
       " 'sad last season wanna see spencer calls lauren',\n",
       " 'im done editing quot phipstape quot back 2 crack brew see got trees though',\n",
       " 'know half means',\n",
       " 'homework homework homework',\n",
       " 'worked heart today doubling weight station result stiff pulled muscles ouch',\n",
       " 'feel bad unfollowing',\n",
       " 'tired god hate new job two days',\n",
       " 'sad kutner killed fav show house',\n",
       " 'happy coach stringer hof c 2009 finish term paper',\n",
       " 'feel like shit way want spend birthday eve',\n",
       " 'far 311 sites put together checking updates made',\n",
       " 'lot mind needs make moneys ideas nowhere hiring',\n",
       " 'miss',\n",
       " 'sorry hear dog',\n",
       " 'much internet plagues',\n",
       " 'miss ex soo much',\n",
       " 'sodding m25',\n",
       " 'oh thought pirate bay trial verdict today apparently 10 days',\n",
       " 'call back',\n",
       " 'study hall log immediately',\n",
       " 'tired im crying reason im try get hour half tonight half got last night',\n",
       " 'totally like four girl options none seem viable',\n",
       " 'far 311 veiws sites put together checking updates made',\n",
       " 'listening bjork full love crying',\n",
       " 'omg hills love money2 aww think becky buckwild goes',\n",
       " 'craving tantan nabe',\n",
       " 'c mon sean man',\n",
       " 'watching quot league quot makes miss mint chocolate ice cream cones grand fuck',\n",
       " 'lost phone maybe grass long hope rain',\n",
       " 'hope referring say hello new stalker lol',\n",
       " 'u sleeping ur gonna night ur bike ride',\n",
       " 'wanna listen masters',\n",
       " 'looking good stuff write also loads uni work',\n",
       " 'feel unloved dropped 2 tweeters',\n",
       " 'london day thursday gonna raining oh fab see much london eye still robbie care bless',\n",
       " 'completely wiped reloaded 8900 lost bbm contacts going bed sad',\n",
       " 'sayyyy whaaaa invited',\n",
       " 'sleep bad considering workshop starting today beginnings sore throat though',\n",
       " 'oh gosh made emotional haha idk dont want get old',\n",
       " 'going post stories manually due twitterfeed problem quiet lately',\n",
       " 'like lukewarm showers',\n",
       " 'contact need 1099 freelance work linux com throughout 2008 never got one',\n",
       " 'connor febi really really mad',\n",
       " 'need help want buy macbook pro still inlove old powerbook',\n",
       " 'man america borez anyway lol realized sent msgs idea flash',\n",
       " 'ihopness g knight lovely ladies sleepy',\n",
       " 'anybody know get electrolytes back order vitamin work feel sick',\n",
       " 'yes someone reading posts properly',\n",
       " 'almost italian homework weeeeee understood',\n",
       " 'turned lights time get ip',\n",
       " 'twitter hates us',\n",
       " 'hate fact genuinely excited last tweet',\n",
       " 'sleep either',\n",
       " 'italy earthquake sad news day',\n",
       " 'rain today garden really needs quite bad',\n",
       " 'yawn yawn yawn 10 minutes bed',\n",
       " 'ouch sounds sucky',\n",
       " 'great idea itunes promo codes work uk itunes store though',\n",
       " 'cry',\n",
       " 'empty rum barrel sad rum barrel shakes head horror horror',\n",
       " 'sleepless night',\n",
       " 'admitted fake',\n",
       " 'love chutney',\n",
       " 'got highly bored today scanning 24 pages daddy',\n",
       " 'cooked risotto without',\n",
       " 'keeeerrrrriiiiii really nothing better post thing 224am wonderfullll says alot',\n",
       " 'yay baseball season boo yankees losing first game',\n",
       " 'lost sucks work today',\n",
       " 'omg exams killed could know difference haif circle hemisphere lt 3 gt',\n",
       " 'bed suddenly feel wish w goodnight twitterfam',\n",
       " 'like goodnights',\n",
       " 'greaaat lappy turn wtffffff',\n",
       " 'stuck traffic journey traffic free morning help',\n",
       " 'lookin like nighter hate',\n",
       " 'stranger',\n",
       " 'debbugging old vb6 code day could started better',\n",
       " 'quarter percent babe darn',\n",
       " 'coming cold bad allergies either way miserable',\n",
       " 'believe cutner dead house sad day santa rosa ca',\n",
       " 'damnit really digging season reaper',\n",
       " 'gah comcast doubled cable internet bill w telling us quitting anyone suggest affordable company bay area',\n",
       " 'another early morn duchess although managed cross legs time',\n",
       " 'left without saying hi',\n",
       " 'l want sleep',\n",
       " 'xbox shows three red lights means dead needs fixed month microsoft hq',\n",
       " 'king sized bed nice sad lonely hubby puppy kitty whole conferenceing thing',\n",
       " 'im boredd gah wish could sleep get ive toooo muchh cooooffffeeeeeeeee bahaha',\n",
       " 'may butt done nosey sorry conversation interesting',\n",
       " 'fell list offend',\n",
       " '18 weeks till sisters home missed call worst feeling world',\n",
       " 'gonna try get sleep hotel room',\n",
       " 'brilliant idea bring much think spend amp swap bring brolly',\n",
       " 'get autograph shout record though computer dead listen',\n",
       " 'rt kimkardashian khloe got fired apprentice',\n",
       " 'biology class lip hurts',\n",
       " 'sorry next tweet',\n",
       " 'grr go school today',\n",
       " 'get hd tivo got set tonight order get channels 40 59',\n",
       " 'asked everyone yesterday single tweet back',\n",
       " 'ruddy money like still waiting oh surprise state hmmm seriously',\n",
       " 'sad kutner favorite new team',\n",
       " 'wow get quot hello quot u suck',\n",
       " 'bedtime school tomorrow still books broke suckssss',\n",
       " 'seating helping baby papers well forcing seat im sleepy',\n",
       " 'synching contacts old mobile iphone import work well',\n",
       " 'concentrate',\n",
       " 'spent 1 hour enter bureaucratic nonsense march waste time',\n",
       " 'nw confused ever',\n",
       " 'feeling well stupid migraine making tummy upset whole body aches shoot',\n",
       " 'reading buyology bedtime great premise turning quot ok quot book lots info already knew',\n",
       " 'home really wana sleep due wasting free line town assignment finish',\n",
       " 'also send updates plurk upload photos twitter didnt see updates plurk zero',\n",
       " 'omg quot reader quot making',\n",
       " 'oh least getting decent exchange rate moment sterling still getting flogged',\n",
       " 'tried download tweetdeck wont download',\n",
       " 'inch snow ground counting worried poor flowers',\n",
       " 'happy camper',\n",
       " 'thanks man grateful feel unworthy attention though',\n",
       " 'miss u totally comin back tho lastnight sooooooo much fun',\n",
       " 'ohhh love ps sad get hang',\n",
       " 'somehow still end place',\n",
       " 'oh sad poor boy',\n",
       " ...]"
      ]
     },
     "execution_count": 9,
     "metadata": {},
     "output_type": "execute_result"
    }
   ],
   "source": [
    "data_text.collect()"
   ]
  },
  {
   "cell_type": "code",
   "execution_count": 15,
   "metadata": {},
   "outputs": [],
   "source": [
    "data_target = data.rdd.map(decode_sentiment)"
   ]
  },
  {
   "cell_type": "code",
   "execution_count": 16,
   "metadata": {},
   "outputs": [
    {
     "data": {
      "text/plain": [
       "pyspark.rdd.PipelinedRDD"
      ]
     },
     "execution_count": 16,
     "metadata": {},
     "output_type": "execute_result"
    }
   ],
   "source": [
    "type(data_target)"
   ]
  },
  {
   "cell_type": "code",
   "execution_count": 11,
   "metadata": {},
   "outputs": [],
   "source": [
    "from pyspark.sql.types import *"
   ]
  },
  {
   "cell_type": "code",
   "execution_count": 18,
   "metadata": {},
   "outputs": [],
   "source": [
    "# from PipelinedRDD to DF\n",
    "data_target = data_target.toDF(IntegerType())\n",
    "data_text = data_text.toDF(StringType())"
   ]
  },
  {
   "cell_type": "code",
   "execution_count": 15,
   "metadata": {},
   "outputs": [
    {
     "data": {
      "text/plain": [
       "[Row(value='awww bummer shoulda got david carr third day'),\n",
       " Row(value='upset update facebook texting might cry result school today also blah'),\n",
       " Row(value='dived many times ball managed save 50 rest go bounds')]"
      ]
     },
     "execution_count": 15,
     "metadata": {},
     "output_type": "execute_result"
    }
   ],
   "source": [
    "data_text.take(3)"
   ]
  },
  {
   "cell_type": "code",
   "execution_count": 19,
   "metadata": {},
   "outputs": [
    {
     "data": {
      "text/plain": [
       "[Row(value=0), Row(value=0), Row(value=0)]"
      ]
     },
     "execution_count": 19,
     "metadata": {},
     "output_type": "execute_result"
    }
   ],
   "source": [
    "data_target.take(3)"
   ]
  },
  {
   "cell_type": "code",
   "execution_count": 20,
   "metadata": {},
   "outputs": [
    {
     "data": {
      "text/plain": [
       "pyspark.sql.dataframe.DataFrame"
      ]
     },
     "execution_count": 20,
     "metadata": {},
     "output_type": "execute_result"
    }
   ],
   "source": [
    "type(data_target)"
   ]
  },
  {
   "cell_type": "code",
   "execution_count": 21,
   "metadata": {},
   "outputs": [],
   "source": [
    "data_target = data_target.withColumnRenamed('value', 'label')"
   ]
  },
  {
   "cell_type": "code",
   "execution_count": 22,
   "metadata": {
    "scrolled": true
   },
   "outputs": [],
   "source": [
    "data_text = data_text.withColumnRenamed('value', 'sentence')"
   ]
  },
  {
   "cell_type": "code",
   "execution_count": 23,
   "metadata": {},
   "outputs": [
    {
     "data": {
      "text/plain": [
       "['label']"
      ]
     },
     "execution_count": 23,
     "metadata": {},
     "output_type": "execute_result"
    }
   ],
   "source": [
    "data_target.columns"
   ]
  },
  {
   "cell_type": "code",
   "execution_count": 24,
   "metadata": {},
   "outputs": [
    {
     "data": {
      "text/plain": [
       "['sentence']"
      ]
     },
     "execution_count": 24,
     "metadata": {},
     "output_type": "execute_result"
    }
   ],
   "source": [
    "data_text.columns"
   ]
  },
  {
   "cell_type": "code",
   "execution_count": 45,
   "metadata": {},
   "outputs": [],
   "source": [
    "from pyspark.sql.functions import monotonically_increasing_id"
   ]
  },
  {
   "cell_type": "code",
   "execution_count": 26,
   "metadata": {},
   "outputs": [],
   "source": [
    "data_text = data_text.withColumn('id',monotonically_increasing_id())\n",
    "data_target = data_target.withColumn('id',monotonically_increasing_id())"
   ]
  },
  {
   "cell_type": "code",
   "execution_count": 89,
   "metadata": {},
   "outputs": [
    {
     "name": "stdout",
     "output_type": "stream",
     "text": [
      "+--------------------+---+\n",
      "|            sentence| id|\n",
      "+--------------------+---+\n",
      "|awww bummer shoul...|  0|\n",
      "|upset update face...|  1|\n",
      "|dived many times ...|  2|\n",
      "|whole body feels ...|  3|\n",
      "|    behaving mad see|  4|\n",
      "|          whole crew|  5|\n",
      "|            need hug|  6|\n",
      "|hey long time see...|  7|\n",
      "|                nope|  8|\n",
      "|           que muera|  9|\n",
      "|spring break plai...| 10|\n",
      "|        pierced ears| 11|\n",
      "|bear watch though...| 12|\n",
      "|counts idk either...| 13|\n",
      "|would first gun r...| 14|\n",
      "|wish got watch mi...| 15|\n",
      "|hollis death scen...| 16|\n",
      "|          file taxes| 17|\n",
      "|ahh ive always wa...| 18|\n",
      "|oh dear drinking ...| 19|\n",
      "+--------------------+---+\n",
      "only showing top 20 rows\n",
      "\n"
     ]
    }
   ],
   "source": [
    "data_text.show()"
   ]
  },
  {
   "cell_type": "code",
   "execution_count": 27,
   "metadata": {},
   "outputs": [],
   "source": [
    "data_text = data_text.join(data_target, 'id')"
   ]
  },
  {
   "cell_type": "code",
   "execution_count": 28,
   "metadata": {},
   "outputs": [
    {
     "name": "stdout",
     "output_type": "stream",
     "text": [
      "+----+--------------------+-----+\n",
      "|  id|            sentence|label|\n",
      "+----+--------------------+-----+\n",
      "|  26|going cry sleep w...|    0|\n",
      "|  29|meh almost lover ...|    0|\n",
      "| 474|cant see flowers ...|    0|\n",
      "| 964|im boredd gah wis...|    0|\n",
      "|1677|strongly consider...|    0|\n",
      "|1697|got spanish revis...|    0|\n",
      "|1806|ahh ai dreptate p...|    0|\n",
      "|1950|sprained glad im ...|    0|\n",
      "|2040|think pretty stan...|    0|\n",
      "|2214|guess graphic art...|    0|\n",
      "|2250|think use twitter...|    0|\n",
      "|2453|ouch zoom 1 clear...|    0|\n",
      "|2509|still sad marley ...|    0|\n",
      "|2529|going walk dogs s...|    0|\n",
      "|2927|really wish 100 b...|    0|\n",
      "|3091|im awake people g...|    0|\n",
      "|3506|yeah aberdeen mil...|    0|\n",
      "|3764|suffice say offer...|    0|\n",
      "|4590|kl tomorrow looki...|    0|\n",
      "|4823|much booze talk m...|    0|\n",
      "+----+--------------------+-----+\n",
      "only showing top 20 rows\n",
      "\n"
     ]
    }
   ],
   "source": [
    "data_text.show()"
   ]
  },
  {
   "cell_type": "code",
   "execution_count": 92,
   "metadata": {},
   "outputs": [
    {
     "data": {
      "text/plain": [
       "1600000"
      ]
     },
     "execution_count": 92,
     "metadata": {},
     "output_type": "execute_result"
    }
   ],
   "source": [
    "data_text.count()"
   ]
  },
  {
   "cell_type": "code",
   "execution_count": 5,
   "metadata": {},
   "outputs": [],
   "source": [
    "from pyspark.ml.feature import HashingTF, IDF, Tokenizer"
   ]
  },
  {
   "cell_type": "code",
   "execution_count": null,
   "metadata": {},
   "outputs": [],
   "source": [
    "wordsData = Tokenizer(inputCol=\"sentence\", outputCol=\"words\").transform(data_text)"
   ]
  },
  {
   "cell_type": "code",
   "execution_count": 30,
   "metadata": {},
   "outputs": [
    {
     "name": "stdout",
     "output_type": "stream",
     "text": [
      "DataFrame[id: bigint, sentence: string, label: int, words: array<string>, rawFeatures: vector]\n"
     ]
    }
   ],
   "source": [
    "hashingTF = HashingTF(inputCol=\"words\", outputCol=\"rawFeatures\", numFeatures=8000)\n",
    "featurizedData = hashingTF.transform(wordsData)\n",
    "print(featurizedData)"
   ]
  },
  {
   "cell_type": "code",
   "execution_count": 31,
   "metadata": {},
   "outputs": [],
   "source": [
    "idf = IDF(inputCol=\"rawFeatures\", outputCol=\"features\")"
   ]
  },
  {
   "cell_type": "code",
   "execution_count": 32,
   "metadata": {
    "scrolled": true
   },
   "outputs": [],
   "source": [
    "idfModel = idf.fit(featurizedData)"
   ]
  },
  {
   "cell_type": "code",
   "execution_count": 33,
   "metadata": {},
   "outputs": [
    {
     "name": "stdout",
     "output_type": "stream",
     "text": [
      "DataFrame[id: bigint, sentence: string, label: int, words: array<string>, rawFeatures: vector, features: vector]\n"
     ]
    }
   ],
   "source": [
    "rescaledData = idfModel.transform(featurizedData)\n",
    "print(rescaledData)"
   ]
  },
  {
   "cell_type": "code",
   "execution_count": 89,
   "metadata": {},
   "outputs": [],
   "source": [
    "hashingTF.save('/user/pi/sentiment_analysis/models/hsshingTF_model')"
   ]
  },
  {
   "cell_type": "code",
   "execution_count": 76,
   "metadata": {},
   "outputs": [],
   "source": [
    "idfModel.save('/user/pi/sentiment_analysis/models/idf_model')"
   ]
  },
  {
   "cell_type": "code",
   "execution_count": 98,
   "metadata": {},
   "outputs": [
    {
     "name": "stdout",
     "output_type": "stream",
     "text": [
      "+--------+--------------------+\n",
      "|   label|            features|\n",
      "+--------+--------------------+\n",
      "|NEGATIVE|(8000,[493,532,22...|\n",
      "|NEGATIVE|(8000,[2087,2157,...|\n",
      "|NEGATIVE|(8000,[1803,2437,...|\n",
      "|NEGATIVE|(8000,[495,590,13...|\n",
      "|NEGATIVE|(8000,[373,851,89...|\n",
      "|NEGATIVE|(8000,[1219,4007,...|\n",
      "|NEGATIVE|(8000,[2357,3362,...|\n",
      "|NEGATIVE|(8000,[4457,4665,...|\n",
      "|NEGATIVE|(8000,[1510,2475,...|\n",
      "|NEGATIVE|(8000,[1429,1525,...|\n",
      "|NEGATIVE|(8000,[622,4169,4...|\n",
      "|NEGATIVE|(8000,[442,2326,2...|\n",
      "|NEGATIVE|(8000,[503,1792,2...|\n",
      "|NEGATIVE|(8000,[493,975,12...|\n",
      "|NEGATIVE|(8000,[495,1851,4...|\n",
      "|NEGATIVE|(8000,[1154,2214,...|\n",
      "|NEGATIVE|(8000,[1027,1167,...|\n",
      "|NEGATIVE|(8000,[1437,1852,...|\n",
      "|NEGATIVE|(8000,[315,4996,5...|\n",
      "|NEGATIVE|(8000,[996,2524,3...|\n",
      "+--------+--------------------+\n",
      "only showing top 20 rows\n",
      "\n"
     ]
    }
   ],
   "source": [
    "rescaledData.select(\"label\", \"features\").show()"
   ]
  },
  {
   "cell_type": "code",
   "execution_count": 99,
   "metadata": {},
   "outputs": [
    {
     "data": {
      "text/plain": [
       "[Row(id=26, sentence='going cry sleep watching marley', label='NEGATIVE', words=['going', 'cry', 'sleep', 'watching', 'marley'], rawFeatures=SparseVector(8000, {493: 1.0, 532: 1.0, 2275: 1.0, 4401: 1.0, 5961: 1.0}), features=SparseVector(8000, {493: 3.2358, 532: 5.727, 2275: 4.2576, 4401: 8.0298, 5961: 4.062})),\n",
       " Row(id=29, sentence='meh almost lover exception track gets depressed every time', label='NEGATIVE', words=['meh', 'almost', 'lover', 'exception', 'track', 'gets', 'depressed', 'every', 'time'], rawFeatures=SparseVector(8000, {2087: 1.0, 2157: 1.0, 2288: 1.0, 2493: 1.0, 2772: 1.0, 3688: 1.0, 5197: 1.0, 6593: 1.0, 7936: 1.0}), features=SparseVector(8000, {2087: 6.6757, 2157: 2.8079, 2288: 7.5297, 2493: 6.9414, 2772: 6.9656, 3688: 5.8435, 5197: 5.21, 6593: 6.1802, 7936: 5.4556})),\n",
       " Row(id=474, sentence='cant see flowers falling dont camera cellphone', label='NEGATIVE', words=['cant', 'see', 'flowers', 'falling', 'dont', 'camera', 'cellphone'], rawFeatures=SparseVector(8000, {1803: 1.0, 2437: 1.0, 3515: 1.0, 6026: 1.0, 6992: 1.0, 7148: 1.0, 7977: 1.0}), features=SparseVector(8000, {1803: 7.2626, 2437: 4.9556, 3515: 3.5601, 6026: 4.5032, 6992: 6.4911, 7148: 6.817, 7977: 4.3283}))]"
      ]
     },
     "execution_count": 99,
     "metadata": {},
     "output_type": "execute_result"
    }
   ],
   "source": [
    "rescaledData.take(3)"
   ]
  },
  {
   "cell_type": "code",
   "execution_count": 34,
   "metadata": {},
   "outputs": [],
   "source": [
    "(trainingData, testingData) = rescaledData.randomSplit([0.85, 0.15], seed=100)"
   ]
  },
  {
   "cell_type": "code",
   "execution_count": 6,
   "metadata": {},
   "outputs": [],
   "source": [
    "from pyspark.ml.classification import LogisticRegression"
   ]
  },
  {
   "cell_type": "code",
   "execution_count": 36,
   "metadata": {},
   "outputs": [],
   "source": [
    "lr = LogisticRegression(maxIter=20, regParam=0.3, elasticNetParam=0)"
   ]
  },
  {
   "cell_type": "code",
   "execution_count": 37,
   "metadata": {
    "scrolled": true
   },
   "outputs": [],
   "source": [
    "lr_model = lr.fit(trainingData)"
   ]
  },
  {
   "cell_type": "code",
   "execution_count": 71,
   "metadata": {},
   "outputs": [
    {
     "data": {
      "text/plain": [
       "pyspark.ml.classification.LogisticRegressionModel"
      ]
     },
     "execution_count": 71,
     "metadata": {},
     "output_type": "execute_result"
    }
   ],
   "source": [
    "type(lr_model)"
   ]
  },
  {
   "cell_type": "code",
   "execution_count": null,
   "metadata": {},
   "outputs": [],
   "source": [
    "lr_model.save('/user/pi/sentiment_analysis/models/lr_model')"
   ]
  },
  {
   "cell_type": "code",
   "execution_count": 72,
   "metadata": {},
   "outputs": [],
   "source": [
    "predictions = lr_model.transform(testingData)"
   ]
  },
  {
   "cell_type": "code",
   "execution_count": 39,
   "metadata": {
    "scrolled": true
   },
   "outputs": [
    {
     "name": "stdout",
     "output_type": "stream",
     "text": [
      "+-----+--------------------+-----+--------------------+--------------------+--------------------+--------------------+--------------------+----------+\n",
      "|   id|            sentence|label|               words|         rawFeatures|            features|       rawPrediction|         probability|prediction|\n",
      "+-----+--------------------+-----+--------------------+--------------------+--------------------+--------------------+--------------------+----------+\n",
      "| 1677|strongly consider...|    0|[strongly, consid...|(8000,[373,851,89...|(8000,[373,851,89...|[8.93798832907123...|[0.85314689035329...|       0.0|\n",
      "| 2040|think pretty stan...|    0|[think, pretty, s...|(8000,[1510,2475,...|(8000,[1510,2475,...|[8.10681272459158...|[0.52426597054944...|       0.0|\n",
      "| 3091|im awake people g...|    0|[im, awake, peopl...|(8000,[1154,2214,...|(8000,[1154,2214,...|[8.37693571843575...|[0.65415348475205...|       0.0|\n",
      "| 7225|today wish get au...|    0|[today, wish, get...|(8000,[495,3959,5...|(8000,[495,3959,5...|[8.94139705145330...|[0.85399965027804...|       0.0|\n",
      "| 7279|throat infection ...|    0|[throat, infectio...|(8000,[2520,2651,...|(8000,[2520,2651,...|[8.88625038882300...|[0.83970614876768...|       0.0|\n",
      "| 9945|tired way early 2...|    0|[tired, way, earl...|(8000,[1501,2966,...|(8000,[1501,2966,...|[8.40819925383630...|[0.66817004342047...|       0.0|\n",
      "| 9968|rain please stop ...|    0|[rain, please, st...|(8000,[796,841,30...|(8000,[796,841,30...|[8.24999509785526...|[0.59472312058352...|       0.0|\n",
      "|10959|oh johnnie guess ...|    0|[oh, johnnie, gue...|(8000,[103,629,81...|(8000,[103,629,81...|[8.20029988449232...|[0.57055313954940...|       0.0|\n",
      "|11945|awww kay saw cows...|    0|[awww, kay, saw, ...|(8000,[2087,2306,...|(8000,[2087,2306,...|[8.12042749396104...|[0.53105097736382...|       0.0|\n",
      "|13518|lol 1st one hilar...|    0|[lol, 1st, one, h...|(8000,[263,1216,1...|(8000,[263,1216,1...|[7.36344105224088...|[0.19946752804149...|       4.0|\n",
      "|14846|supposed warm tod...|    0|[supposed, warm, ...|(8000,[2034,2392,...|(8000,[2034,2392,...|[8.41800112180105...|[0.67250735306799...|       0.0|\n",
      "|15663|    ahh think tonite|    0|[ahh, think, tonite]|(8000,[514,7107,7...|(8000,[514,7107,7...|[8.08735582134761...|[0.51456198590424...|       0.0|\n",
      "|16530|despite fact abil...|    0|[despite, fact, a...|(8000,[198,1605,2...|(8000,[198,1605,2...|[8.76774974400523...|[0.80517659907637...|       0.0|\n",
      "|18348|4 gb ram core 2 d...|    0|[4, gb, ram, core...|(8000,[395,2074,2...|(8000,[395,2074,2...|[8.67336659649973...|[0.77385741537778...|       0.0|\n",
      "|18628|     want phone back|    0| [want, phone, back]|(8000,[430,1624,1...|(8000,[430,1624,1...|[8.43615661033330...|[0.68045532618006...|       0.0|\n",
      "|18730|last hours three ...|    0|[last, hours, thr...|(8000,[430,1736,1...|(8000,[430,1736,1...|[8.70318222598956...|[0.78412720181295...|       0.0|\n",
      "|21899|got back flogging...|    0|[got, back, flogg...|(8000,[430,460,52...|(8000,[430,460,52...|[8.17815871233004...|[0.55966486570437...|       0.0|\n",
      "|25207|unfortunately abl...|    0|[unfortunately, a...|(8000,[1496,2287,...|(8000,[1496,2287,...|[8.78413268905845...|[0.81027676791159...|       0.0|\n",
      "|25479|long time lost voice|    0|[long, time, lost...|(8000,[1233,2157,...|(8000,[1233,2157,...|[8.40148968142588...|[0.66519344751107...|       0.0|\n",
      "|25649|            lol read|    0|         [lol, read]|(8000,[2830,3650]...|(8000,[2830,3650]...|[7.83380336351754...|[0.38963843589496...|       4.0|\n",
      "+-----+--------------------+-----+--------------------+--------------------+--------------------+--------------------+--------------------+----------+\n",
      "only showing top 20 rows\n",
      "\n"
     ]
    }
   ],
   "source": [
    "predictions.show()"
   ]
  },
  {
   "cell_type": "code",
   "execution_count": 7,
   "metadata": {},
   "outputs": [],
   "source": [
    "from pyspark.ml.evaluation import MulticlassClassificationEvaluator"
   ]
  },
  {
   "cell_type": "code",
   "execution_count": 42,
   "metadata": {},
   "outputs": [
    {
     "name": "stdout",
     "output_type": "stream",
     "text": [
      "0.7498318507356787\n"
     ]
    }
   ],
   "source": [
    "# evaluate the model\n",
    "evaluator = MulticlassClassificationEvaluator(predictionCol='prediction')\n",
    "print(evaluator.evaluate(predictions))"
   ]
  },
  {
   "cell_type": "markdown",
   "metadata": {},
   "source": [
    "## Load model and manually input something to take a test"
   ]
  },
  {
   "cell_type": "code",
   "execution_count": 1,
   "metadata": {},
   "outputs": [],
   "source": [
    "from pyspark.ml.feature import IDFModel"
   ]
  },
  {
   "cell_type": "code",
   "execution_count": 9,
   "metadata": {},
   "outputs": [],
   "source": [
    "from pyspark.sql.types import *"
   ]
  },
  {
   "cell_type": "code",
   "execution_count": 10,
   "metadata": {},
   "outputs": [],
   "source": [
    "sentenceData = spark.createDataFrame([\n",
    "    (\"Impressive price, good quality\"),\n",
    "    (\"It is not hot at all. Not ok. Very terrible\"),\n",
    "    (\"Received the product after 2 days. It looks nice. Good material. Lovely price.\"),\n",
    "    (\"Really love the powder. Fast delivery.\"),\n",
    "    (\"Unusable after 3 days. Incorrect time. Consume too much battery. Not good. Are you sure it costs 2,599THB? Very bad.\"),\n",
    "    (\"Impressive price, good quality\"),\n",
    "    (\"We got this GPS for my husband who is an (OTR) over the road trucker.  Very Impressed with the shipping time, it arrived a few days earlier than expected...  within a week of use however it started freezing up... could of just been a glitch in that unit.  Worked great when it worked!  Will work great for the normal person as well but does have the \\\"trucker\\\" option. (the big truck routes - tells you when a scale is coming up ect...)  Love the bigger screen, the ease of use, the ease of putting addresses into memory.  Nothing really bad to say about the unit with the exception of it freezing which is probably one in a million and that's just my luck.  I contacted the seller and within minutes of my email I received a email back with instructions for an exchange! VERY impressed all the way around!\"),\n",
    "    (\"I'd never bought one of these, mainly due to the high prices in the retail stores.  I hadn't looked online much, and hadn't really needed a monitor mounting device until recently.This thing is well built, and it does the job.  It's not fancy but if you are just looking for an inexpensive way to hang a monitor (TV or PC) on the wall this will do the job.  It comes with a nice bag of heavy-duty hardware.  It is primarily designed for mounting TV sets, but you can get it to work with a PC monitor, as long as it has the VESA mounting.It mainly articulates side-to-side and in-and-out.  It'll pivot a bit up and down, but that's limited.\"),\n",
    "    (\"This device is somewhat weak even for the 46 inch TV weighing only 31lbs that I'm using it with. after some adjusting it's working ok.\"),\n",
    "    (\"This product worked perfectly when the heads up display went out in my 89 Nissan 240 SX and then I sold the car. I contacted the company and they let me return it even though there wasn't anything wrong with it, now that is great customer service!\"),\n",
    "    (\"I have been using this wireless keyboard for about a year now and I seem to be having a bit of trouble with how it connects.  It will suddenly stop typing in the middle of what I am typing and then resume.  I do enjoy how it types.  I do notice that when I hit shift the next letter will be an uppercase.  I don't know if that is user error or a problem with keyboard layout.  I have been thinking of getting a new keyboard.  It will be a logitech, but it would probably be the next iteration upwards.\")\n",
    "], StringType())"
   ]
  },
  {
   "cell_type": "code",
   "execution_count": 11,
   "metadata": {},
   "outputs": [],
   "source": [
    "# rename the column\n",
    "sentenceData = sentenceData.withColumnRenamed('value', 'sentence')"
   ]
  },
  {
   "cell_type": "code",
   "execution_count": 12,
   "metadata": {},
   "outputs": [
    {
     "data": {
      "text/plain": [
       "['sentence']"
      ]
     },
     "execution_count": 12,
     "metadata": {},
     "output_type": "execute_result"
    }
   ],
   "source": [
    "# check the columns name\n",
    "sentenceData.columns"
   ]
  },
  {
   "cell_type": "code",
   "execution_count": 14,
   "metadata": {},
   "outputs": [],
   "source": [
    "from pyspark.ml.feature import HashingTF, IDF, Tokenizer"
   ]
  },
  {
   "cell_type": "code",
   "execution_count": 15,
   "metadata": {},
   "outputs": [
    {
     "name": "stdout",
     "output_type": "stream",
     "text": [
      "DataFrame[sentence: string, words: array<string>, rawFeatures: vector]\n"
     ]
    }
   ],
   "source": [
    "wordsData = Tokenizer(inputCol=\"sentence\", outputCol=\"words\").transform(sentenceData)\n",
    "hashingTF = HashingTF.load('/user/pi/sentiment_analysis/models/hsshingTF_model')\n",
    "featurizedData = hashingTF.transform(wordsData)\n",
    "print(featurizedData)\n",
    "idf = IDFModel.load('/user/pi/sentiment_analysis/models/idf_model')\n",
    "rescaledData = idf.transform(featurizedData)"
   ]
  },
  {
   "cell_type": "code",
   "execution_count": 16,
   "metadata": {},
   "outputs": [],
   "source": [
    "from pyspark.ml.classification import LogisticRegressionModel"
   ]
  },
  {
   "cell_type": "code",
   "execution_count": 17,
   "metadata": {},
   "outputs": [],
   "source": [
    "tmp_model = LogisticRegressionModel.load('/user/pi/sentiment_analysis/models/lr_model')"
   ]
  },
  {
   "cell_type": "code",
   "execution_count": 18,
   "metadata": {},
   "outputs": [],
   "source": [
    "predirction = tmp_model.transform(rescaledData)"
   ]
  },
  {
   "cell_type": "markdown",
   "metadata": {},
   "source": [
    "### For the prediction column, 4.0 means positive, 0.0 means negative"
   ]
  },
  {
   "cell_type": "code",
   "execution_count": 19,
   "metadata": {},
   "outputs": [
    {
     "name": "stdout",
     "output_type": "stream",
     "text": [
      "+--------------------+--------------------+--------------------+--------------------+--------------------+--------------------+----------+\n",
      "|            sentence|               words|         rawFeatures|            features|       rawPrediction|         probability|prediction|\n",
      "+--------------------+--------------------+--------------------+--------------------+--------------------+--------------------+----------+\n",
      "|Impressive price,...|[impressive, pric...|(8000,[2993,4385,...|(8000,[2993,4385,...|[7.66839866134582...|[0.31439439776510...|       4.0|\n",
      "|It is not hot at ...|[it, is, not, hot...|(8000,[231,2756,3...|(8000,[231,2756,3...|[8.61394526044791...|[0.75238944415529...|       0.0|\n",
      "|Received the prod...|[received, the, p...|(8000,[77,921,146...|(8000,[77,921,146...|[7.11000262812721...|[0.13050502371505...|       4.0|\n",
      "|Really love the p...|[really, love, th...|(8000,[240,4172,6...|(8000,[240,4172,6...|[7.71447736432222...|[0.33458753247871...|       4.0|\n",
      "|Unusable after 3 ...|[unusable, after,...|(8000,[77,764,119...|(8000,[77,764,119...|[7.67264924810600...|[0.31620821720219...|       4.0|\n",
      "|Impressive price,...|[impressive, pric...|(8000,[2993,4385,...|(8000,[2993,4385,...|[7.66839866134582...|[0.31439439776510...|       4.0|\n",
      "|We got this GPS f...|[we, got, this, g...|(8000,[24,217,240...|(8000,[24,217,240...|[6.75416102178628...|[0.06855534199468...|       4.0|\n",
      "|I'd never bought ...|[i'd, never, boug...|(8000,[0,13,248,3...|(8000,[0,13,248,3...|[7.02201085524288...|[0.11172998215781...|       4.0|\n",
      "|This device is so...|[this, device, is...|(8000,[77,814,899...|(8000,[77,814,899...|[8.25066556228752...|[0.59501680841002...|       0.0|\n",
      "|This product work...|[this, product, w...|(8000,[48,118,449...|(8000,[48,118,449...|[7.81941235299176...|[0.38274872700168...|       4.0|\n",
      "|I have been using...|[i, have, been, u...|(8000,[272,581,58...|(8000,[272,581,58...|[6.45843547856768...|[0.03915699849959...|       4.0|\n",
      "+--------------------+--------------------+--------------------+--------------------+--------------------+--------------------+----------+\n",
      "\n"
     ]
    }
   ],
   "source": [
    "predirction.show()"
   ]
  },
  {
   "cell_type": "markdown",
   "metadata": {},
   "source": [
    "# Download reviews_Electronics_5 json data and upload to HDFS"
   ]
  },
  {
   "cell_type": "code",
   "execution_count": 20,
   "metadata": {},
   "outputs": [
    {
     "name": "stdout",
     "output_type": "stream",
     "text": [
      "--2020-04-21 10:02:37--  http://snap.stanford.edu/data/amazon/productGraph/categoryFiles/reviews_Electronics_5.json.gz\n",
      "Resolving snap.stanford.edu (snap.stanford.edu)... 171.64.75.80\n",
      "Connecting to snap.stanford.edu (snap.stanford.edu)|171.64.75.80|:80... connected.\n",
      "HTTP request sent, awaiting response... 200 OK\n",
      "Length: 495854086 (473M) [application/x-gzip]\n",
      "Saving to: ‘reviews_Electronics_5.json.gz’\n",
      "\n",
      "reviews_Electronics 100%[===================>] 472.88M  3.63MB/s    in 3m 2s   \n",
      "\n",
      "2020-04-21 10:05:40 (2.60 MB/s) - ‘reviews_Electronics_5.json.gz’ saved [495854086/495854086]\n",
      "\n"
     ]
    }
   ],
   "source": [
    "!wget http://snap.stanford.edu/data/amazon/productGraph/categoryFiles/reviews_Electronics_5.json.gz"
   ]
  },
  {
   "cell_type": "code",
   "execution_count": 22,
   "metadata": {
    "scrolled": false
   },
   "outputs": [
    {
     "name": "stdout",
     "output_type": "stream",
     "text": [
      "BDA_TP_2.ipynb\tresources  reviews_Electronics_5.json.gz  test.ipynb\r\n"
     ]
    }
   ],
   "source": [
    "!ls"
   ]
  },
  {
   "cell_type": "code",
   "execution_count": 23,
   "metadata": {},
   "outputs": [],
   "source": [
    "!gunzip reviews_Electronics_5.json.gz"
   ]
  },
  {
   "cell_type": "code",
   "execution_count": 24,
   "metadata": {},
   "outputs": [
    {
     "name": "stdout",
     "output_type": "stream",
     "text": [
      "BDA_TP_2.ipynb\tresources  reviews_Electronics_5.json  test.ipynb\r\n"
     ]
    }
   ],
   "source": [
    "!ls"
   ]
  },
  {
   "cell_type": "code",
   "execution_count": 27,
   "metadata": {},
   "outputs": [
    {
     "name": "stdout",
     "output_type": "stream",
     "text": [
      "20/04/21 10:12:24 WARN util.NativeCodeLoader: Unable to load native-hadoop library for your platform... using builtin-java classes where applicable\r\n"
     ]
    }
   ],
   "source": [
    "!hdfs dfs -put ./reviews_Electronics_5.json /user/pi/sentiment_analysis/resources"
   ]
  },
  {
   "cell_type": "code",
   "execution_count": 28,
   "metadata": {},
   "outputs": [
    {
     "name": "stdout",
     "output_type": "stream",
     "text": [
      "20/04/21 10:50:45 WARN util.NativeCodeLoader: Unable to load native-hadoop library for your platform... using builtin-java classes where applicable\n",
      "Found 2 items\n",
      "-rw-r--r--   3 pi supergroup 1478965298 2020-04-21 10:33 /user/pi/sentiment_analysis/resources/reviews_Electronics_5.json\n",
      "-rw-r--r--   3 pi supergroup  238803811 2020-04-15 11:47 /user/pi/sentiment_analysis/resources/training.1600000.processed.noemoticon.csv\n"
     ]
    }
   ],
   "source": [
    "!hdfs dfs -ls /user/pi/sentiment_analysis/resources"
   ]
  },
  {
   "cell_type": "code",
   "execution_count": 6,
   "metadata": {},
   "outputs": [],
   "source": [
    "from pyspark.ml.feature import HashingTF, IDF, Tokenizer\n",
    "from pyspark.ml.feature import IDFModel\n",
    "from pyspark.ml.classification import LogisticRegressionModel\n",
    "from pyspark.sql.functions import avg, col, countDistinct"
   ]
  },
  {
   "cell_type": "code",
   "execution_count": 7,
   "metadata": {},
   "outputs": [],
   "source": [
    "hashingTF = HashingTF.load('/user/pi/sentiment_analysis/models/hsshingTF_model')\n",
    "idf = IDFModel.load('/user/pi/sentiment_analysis/models/idf_model')\n",
    "lr_model = LogisticRegressionModel.load('/user/pi/sentiment_analysis/models/lr_model')"
   ]
  },
  {
   "cell_type": "code",
   "execution_count": 13,
   "metadata": {},
   "outputs": [],
   "source": [
    "def trust_calculation(brand_name, df_original_data):\n",
    "    # select the useful columns\n",
    "    df_original_data = df_original_data.select(['overall', 'reviewText'])\n",
    "    # filter for the rows that contains the brand name\n",
    "    df_original_data = df_original_data.filter(df_original_data.reviewText.contains(str(brand_name)))\n",
    "    data_count = df_original_data.count()\n",
    "    if data_count < 500:\n",
    "        print(\"the selected brand's count smaller than 500\")\n",
    "        return\n",
    "    \n",
    "    # caulculate and collect the average rating\n",
    "    double_average_rating = df_original_data.agg(avg(col('overall'))).collect()\n",
    "    double_average_rating = double_average_rating[0][0]\n",
    "    \n",
    "    # rename 'reviewText' column to be 'sentence'\n",
    "    df_original_data = df_original_data.withColumnRenamed('reviewText', 'sentence')\n",
    "    wordsData = Tokenizer(inputCol=\"sentence\", outputCol=\"words\").transform(df_original_data)\n",
    "    featurizedData = hashingTF.transform(wordsData)\n",
    "    rescaledData = idf.transform(featurizedData)\n",
    "    # predict for column 'sentence'\n",
    "    prediction = lr_model.transform(rescaledData)\n",
    "    \n",
    "    # group by column 'prediction', in order to get the count of 'positive' and 'negative'\n",
    "    list_prediction_count = prediction.groupby('prediction').count().collect()\n",
    "    dict_0 = list_prediction_count[0].asDict()\n",
    "    dict_1 = list_prediction_count[1].asDict()\n",
    "    dict_prediction_count = {str(dict_0['prediction']): dict_0['count'], \\\n",
    "                             str(dict_1['prediction']): dict_1['count']}\n",
    "    int_negative_count = dict_prediction_count['0.0']\n",
    "    int_positive_count = dict_prediction_count['4.0']\n",
    "    int_trust_score = (int_positive_count/(int_negative_count+int_positive_count))*5\n",
    "    \n",
    "    res = (brand_name, int_trust_score, double_average_rating)\n",
    "    return res, prediction"
   ]
  },
  {
   "cell_type": "code",
   "execution_count": 18,
   "metadata": {},
   "outputs": [],
   "source": [
    "def convert_incon_con(df_prediction):\n",
    "    list_prediction = df_prediction.collect()\n",
    "    list_inconsistent = []\n",
    "    list_consistent = []\n",
    "    for item in list_prediction:\n",
    "        if item['prediction'] == 4.0:\n",
    "            if item['overall'] > 3.9:\n",
    "                list_consistent.append([item['sentence'], item['overall'], item['prediction']])\n",
    "            else:\n",
    "                list_inconsistent.append([item['sentence'], item['overall'], item['prediction']])\n",
    "        else:\n",
    "            if item['overall'] > 3.9:\n",
    "                list_inconsistent.append([item['sentence'], item['overall'], item['prediction']])\n",
    "            else:\n",
    "                list_consistent.append([item['sentence'], item['overall'], item['prediction']])\n",
    "    return list_inconsistent, list_consistent"
   ]
  },
  {
   "cell_type": "markdown",
   "metadata": {},
   "source": [
    "## Read the reviews_Electronics_5 json file"
   ]
  },
  {
   "cell_type": "code",
   "execution_count": 54,
   "metadata": {},
   "outputs": [],
   "source": [
    "df_electronics_data = spark.read.json('/user/pi/sentiment_analysis/resources/reviews_Electronics_5.json')"
   ]
  },
  {
   "cell_type": "markdown",
   "metadata": {},
   "source": [
    "### First brand: Samsung \n",
    "<img src=\"https://upload.wikimedia.org/wikipedia/th/thumb/2/24/Samsung_Logo.svg/1200px-Samsung_Logo.svg.png\" style=\"width:400px;\"/>"
   ]
  },
  {
   "cell_type": "code",
   "execution_count": 15,
   "metadata": {},
   "outputs": [],
   "source": [
    "samsung_trust_result, df_prediction = trust_calculation('Samsung', df_electronics_data)"
   ]
  },
  {
   "cell_type": "markdown",
   "metadata": {},
   "source": [
    "#### Samsung trust score and average rating"
   ]
  },
  {
   "cell_type": "code",
   "execution_count": 16,
   "metadata": {},
   "outputs": [
    {
     "data": {
      "text/plain": [
       "('Samsung', 4.613156753170532, 4.1962030161524915)"
      ]
     },
     "execution_count": 16,
     "metadata": {},
     "output_type": "execute_result"
    }
   ],
   "source": [
    "samsung_trust_result"
   ]
  },
  {
   "cell_type": "code",
   "execution_count": 19,
   "metadata": {},
   "outputs": [],
   "source": [
    "list_incon, list_con = convert_incon_con(df_prediction)"
   ]
  },
  {
   "cell_type": "markdown",
   "metadata": {},
   "source": [
    "#### Samsung inconsistent reviews count"
   ]
  },
  {
   "cell_type": "code",
   "execution_count": 22,
   "metadata": {},
   "outputs": [],
   "source": [
    "int_samsung_incon_len = len(list_incon)"
   ]
  },
  {
   "cell_type": "code",
   "execution_count": 42,
   "metadata": {},
   "outputs": [
    {
     "name": "stdout",
     "output_type": "stream",
     "text": [
      "8829\n"
     ]
    }
   ],
   "source": [
    "print(int_samsung_incon_len)"
   ]
  },
  {
   "cell_type": "markdown",
   "metadata": {},
   "source": [
    "#### Samsung consistent reviews count"
   ]
  },
  {
   "cell_type": "code",
   "execution_count": 23,
   "metadata": {},
   "outputs": [],
   "source": [
    "int_samsung_con_len = len(list_con)"
   ]
  },
  {
   "cell_type": "code",
   "execution_count": 43,
   "metadata": {},
   "outputs": [
    {
     "name": "stdout",
     "output_type": "stream",
     "text": [
      "30360\n"
     ]
    }
   ],
   "source": [
    "print(int_samsung_con_len)"
   ]
  },
  {
   "cell_type": "markdown",
   "metadata": {},
   "source": [
    "#### Samsung inconsistent reviews"
   ]
  },
  {
   "cell_type": "code",
   "execution_count": null,
   "metadata": {},
   "outputs": [],
   "source": [
    "for item in list_incon:\n",
    "    if item[2] == 4.0:\n",
    "        item[2] = 'Positive'\n",
    "    else:\n",
    "        item[2] = 'Negative'\n",
    "    print(item)"
   ]
  },
  {
   "cell_type": "markdown",
   "metadata": {},
   "source": [
    "#### Samsung consistent reviews"
   ]
  },
  {
   "cell_type": "code",
   "execution_count": null,
   "metadata": {},
   "outputs": [],
   "source": [
    "for item in list_con:\n",
    "    if item[2] == 4.0:\n",
    "        item[2] = 'Positive'\n",
    "    else:\n",
    "        item[2] = 'Negative'\n",
    "    print(item)"
   ]
  },
  {
   "cell_type": "markdown",
   "metadata": {},
   "source": [
    "### Second brand: Apple\n",
    "<img src=\"https://upload.wikimedia.org/wikipedia/commons/thumb/f/fa/Apple_logo_black.svg/1000px-Apple_logo_black.svg.png\" style=\"width:200px;\"/>"
   ]
  },
  {
   "cell_type": "code",
   "execution_count": 24,
   "metadata": {},
   "outputs": [],
   "source": [
    "apple_trust_result, df_prediction = trust_calculation('Apple', df_electronics_data)"
   ]
  },
  {
   "cell_type": "markdown",
   "metadata": {},
   "source": [
    "#### Apple trust score and average rating"
   ]
  },
  {
   "cell_type": "code",
   "execution_count": 25,
   "metadata": {
    "scrolled": false
   },
   "outputs": [
    {
     "data": {
      "text/plain": [
       "('Apple', 4.397669368536476, 4.130893767065856)"
      ]
     },
     "execution_count": 25,
     "metadata": {},
     "output_type": "execute_result"
    }
   ],
   "source": [
    "apple_trust_result"
   ]
  },
  {
   "cell_type": "code",
   "execution_count": 32,
   "metadata": {
    "scrolled": true
   },
   "outputs": [],
   "source": [
    "list_incon, list_con = convert_incon_con(df_prediction)"
   ]
  },
  {
   "cell_type": "markdown",
   "metadata": {},
   "source": [
    "#### Apple inconsistent reviews count"
   ]
  },
  {
   "cell_type": "code",
   "execution_count": 33,
   "metadata": {},
   "outputs": [],
   "source": [
    "int_apple_incon_len = len(list_incon)"
   ]
  },
  {
   "cell_type": "code",
   "execution_count": 44,
   "metadata": {},
   "outputs": [
    {
     "name": "stdout",
     "output_type": "stream",
     "text": [
      "12532\n"
     ]
    }
   ],
   "source": [
    "print(int_apple_incon_len)"
   ]
  },
  {
   "cell_type": "markdown",
   "metadata": {},
   "source": [
    "#### Apple consistent reviews count"
   ]
  },
  {
   "cell_type": "code",
   "execution_count": 34,
   "metadata": {},
   "outputs": [],
   "source": [
    "int_apple_con_len = len(list_con)"
   ]
  },
  {
   "cell_type": "code",
   "execution_count": 45,
   "metadata": {
    "scrolled": true
   },
   "outputs": [
    {
     "name": "stdout",
     "output_type": "stream",
     "text": [
      "33979\n"
     ]
    }
   ],
   "source": [
    "print(int_apple_con_len)"
   ]
  },
  {
   "cell_type": "markdown",
   "metadata": {},
   "source": [
    "#### Apple inconsistent reviews"
   ]
  },
  {
   "cell_type": "code",
   "execution_count": null,
   "metadata": {},
   "outputs": [],
   "source": [
    "for item in list_incon:\n",
    "    if item[2] == 4.0:\n",
    "        item[2] = 'Positive'\n",
    "    else:\n",
    "        item[2] = 'Negative'\n",
    "    print(item)"
   ]
  },
  {
   "cell_type": "markdown",
   "metadata": {},
   "source": [
    "#### Apple consistent reviews"
   ]
  },
  {
   "cell_type": "code",
   "execution_count": null,
   "metadata": {},
   "outputs": [],
   "source": [
    "for item in list_con:\n",
    "    if item[2] == 4.0:\n",
    "        item[2] = 'Positive'\n",
    "    else:\n",
    "        item[2] = 'Negative'\n",
    "    print(item)"
   ]
  },
  {
   "cell_type": "markdown",
   "metadata": {},
   "source": [
    "### Third brand: Razer\n",
    "<img src=\"https://www.thegamingeconomy.com/files/2020/01/Razer-logo.png\" style=\"width:400px;\"/>"
   ]
  },
  {
   "cell_type": "code",
   "execution_count": 55,
   "metadata": {},
   "outputs": [],
   "source": [
    "razer_trust_result, df_prediction = trust_calculation('Razer', df_electronics_data)"
   ]
  },
  {
   "cell_type": "markdown",
   "metadata": {},
   "source": [
    "#### Razer trust score and average rating"
   ]
  },
  {
   "cell_type": "code",
   "execution_count": 58,
   "metadata": {
    "scrolled": true
   },
   "outputs": [
    {
     "data": {
      "text/plain": [
       "('Razer', 4.692049272116462, 4.098544232922732)"
      ]
     },
     "execution_count": 58,
     "metadata": {},
     "output_type": "execute_result"
    }
   ],
   "source": [
    "razer_trust_result"
   ]
  },
  {
   "cell_type": "code",
   "execution_count": 59,
   "metadata": {},
   "outputs": [],
   "source": [
    "list_incon, list_con = convert_incon_con(df_prediction)"
   ]
  },
  {
   "cell_type": "markdown",
   "metadata": {},
   "source": [
    "#### Razer inconsistent reviews count"
   ]
  },
  {
   "cell_type": "code",
   "execution_count": 60,
   "metadata": {},
   "outputs": [],
   "source": [
    "int_razer_incon_len = len(list_incon)"
   ]
  },
  {
   "cell_type": "code",
   "execution_count": 61,
   "metadata": {},
   "outputs": [
    {
     "name": "stdout",
     "output_type": "stream",
     "text": [
      "243\n"
     ]
    }
   ],
   "source": [
    "print(int_razer_incon_len)"
   ]
  },
  {
   "cell_type": "markdown",
   "metadata": {},
   "source": [
    "#### Razer consistent reviews count"
   ]
  },
  {
   "cell_type": "code",
   "execution_count": 62,
   "metadata": {},
   "outputs": [],
   "source": [
    "int_razer_con_len = len(list_con)"
   ]
  },
  {
   "cell_type": "code",
   "execution_count": 63,
   "metadata": {},
   "outputs": [
    {
     "name": "stdout",
     "output_type": "stream",
     "text": [
      "650\n"
     ]
    }
   ],
   "source": [
    "print(int_razer_con_len)"
   ]
  },
  {
   "cell_type": "markdown",
   "metadata": {},
   "source": [
    "#### Razer inconsistent reviews"
   ]
  },
  {
   "cell_type": "code",
   "execution_count": null,
   "metadata": {},
   "outputs": [],
   "source": [
    "for item in list_incon:\n",
    "    if item[2] == 4.0:\n",
    "        item[2] = 'Positive'\n",
    "    else:\n",
    "        item[2] = 'Negative'\n",
    "    print(item)"
   ]
  },
  {
   "cell_type": "markdown",
   "metadata": {},
   "source": [
    "#### Razer consistent reviews"
   ]
  },
  {
   "cell_type": "code",
   "execution_count": null,
   "metadata": {},
   "outputs": [],
   "source": [
    "for item in list_con:\n",
    "    if item[2] == 4.0:\n",
    "        item[2] = 'Positive'\n",
    "    else:\n",
    "        item[2] = 'Negative'\n",
    "    print(item)"
   ]
  },
  {
   "cell_type": "markdown",
   "metadata": {},
   "source": [
    "### Fourth brand: Intel\n",
    "<img src=\"https://upload.wikimedia.org/wikipedia/commons/thumb/c/c9/Intel-logo.svg/1200px-Intel-logo.svg.png\" style=\"width:400px;\"/>"
   ]
  },
  {
   "cell_type": "code",
   "execution_count": 66,
   "metadata": {},
   "outputs": [],
   "source": [
    "intel_trust_result, df_prediction = trust_calculation('Intel', df_electronics_data)"
   ]
  },
  {
   "cell_type": "markdown",
   "metadata": {},
   "source": [
    "#### Intel trust score and average rating"
   ]
  },
  {
   "cell_type": "code",
   "execution_count": 68,
   "metadata": {
    "scrolled": true
   },
   "outputs": [
    {
     "data": {
      "text/plain": [
       "('Intel', 4.51185974561705, 4.32940873152286)"
      ]
     },
     "execution_count": 68,
     "metadata": {},
     "output_type": "execute_result"
    }
   ],
   "source": [
    "intel_trust_result"
   ]
  },
  {
   "cell_type": "code",
   "execution_count": 69,
   "metadata": {},
   "outputs": [],
   "source": [
    "list_incon, list_con = convert_incon_con(df_prediction)"
   ]
  },
  {
   "cell_type": "markdown",
   "metadata": {},
   "source": [
    "#### Intel inconsistent reviews count"
   ]
  },
  {
   "cell_type": "code",
   "execution_count": 70,
   "metadata": {},
   "outputs": [],
   "source": [
    "int_intel_incon_len = len(list_incon)"
   ]
  },
  {
   "cell_type": "code",
   "execution_count": 71,
   "metadata": {},
   "outputs": [
    {
     "name": "stdout",
     "output_type": "stream",
     "text": [
      "2470\n"
     ]
    }
   ],
   "source": [
    "print(int_intel_incon_len)"
   ]
  },
  {
   "cell_type": "markdown",
   "metadata": {},
   "source": [
    "#### Intel consistent reviews count"
   ]
  },
  {
   "cell_type": "code",
   "execution_count": 72,
   "metadata": {},
   "outputs": [],
   "source": [
    "int_intel_con_len = len(list_con)"
   ]
  },
  {
   "cell_type": "code",
   "execution_count": 73,
   "metadata": {},
   "outputs": [
    {
     "name": "stdout",
     "output_type": "stream",
     "text": [
      "9166\n"
     ]
    }
   ],
   "source": [
    "print(int_intel_con_len)"
   ]
  },
  {
   "cell_type": "markdown",
   "metadata": {},
   "source": [
    "#### Intel inconsistent reviews"
   ]
  },
  {
   "cell_type": "code",
   "execution_count": null,
   "metadata": {},
   "outputs": [],
   "source": [
    "for item in list_incon:\n",
    "    if item[2] == 4.0:\n",
    "        item[2] = 'Positive'\n",
    "    else:\n",
    "        item[2] = 'Negative'\n",
    "    print(item)"
   ]
  },
  {
   "cell_type": "markdown",
   "metadata": {},
   "source": [
    "#### Intel consistent reviews"
   ]
  },
  {
   "cell_type": "code",
   "execution_count": null,
   "metadata": {},
   "outputs": [],
   "source": [
    "for item in list_con:\n",
    "    if item[2] == 4.0:\n",
    "        item[2] = 'Positive'\n",
    "    else:\n",
    "        item[2] = 'Negative'\n",
    "    print(item)"
   ]
  },
  {
   "cell_type": "markdown",
   "metadata": {},
   "source": [
    "### Fifth brand: Nvidia\n",
    "<img src=\"https://upload.wikimedia.org/wikipedia/th/thumb/2/21/Nvidia_logo.svg/1200px-Nvidia_logo.svg.png\" style=\"width:400px;\"/>"
   ]
  },
  {
   "cell_type": "code",
   "execution_count": 76,
   "metadata": {},
   "outputs": [],
   "source": [
    "nvidia_trust_result, df_prediction = trust_calculation('Nvidia', df_electronics_data)"
   ]
  },
  {
   "cell_type": "markdown",
   "metadata": {},
   "source": [
    "#### Nvidia trust score and average rating"
   ]
  },
  {
   "cell_type": "code",
   "execution_count": 78,
   "metadata": {},
   "outputs": [
    {
     "data": {
      "text/plain": [
       "('Nvidia', 4.651226158038147, 4.360217983651226)"
      ]
     },
     "execution_count": 78,
     "metadata": {},
     "output_type": "execute_result"
    }
   ],
   "source": [
    "nvidia_trust_result"
   ]
  },
  {
   "cell_type": "code",
   "execution_count": 79,
   "metadata": {},
   "outputs": [],
   "source": [
    "list_incon, list_con = convert_incon_con(df_prediction)"
   ]
  },
  {
   "cell_type": "markdown",
   "metadata": {},
   "source": [
    "#### Nvidia inconsistent reviews count"
   ]
  },
  {
   "cell_type": "code",
   "execution_count": 80,
   "metadata": {},
   "outputs": [],
   "source": [
    "int_nvidia_incon_len = len(list_incon)"
   ]
  },
  {
   "cell_type": "code",
   "execution_count": 81,
   "metadata": {},
   "outputs": [
    {
     "name": "stdout",
     "output_type": "stream",
     "text": [
      "341\n"
     ]
    }
   ],
   "source": [
    "print(int_nvidia_incon_len)"
   ]
  },
  {
   "cell_type": "markdown",
   "metadata": {},
   "source": [
    "#### Nvidia consistent reviews count"
   ]
  },
  {
   "cell_type": "code",
   "execution_count": 82,
   "metadata": {},
   "outputs": [],
   "source": [
    "int_nvidia_con_len = len(list_con)"
   ]
  },
  {
   "cell_type": "code",
   "execution_count": 83,
   "metadata": {},
   "outputs": [
    {
     "name": "stdout",
     "output_type": "stream",
     "text": [
      "1494\n"
     ]
    }
   ],
   "source": [
    "print(int_nvidia_con_len)"
   ]
  },
  {
   "cell_type": "markdown",
   "metadata": {},
   "source": [
    "#### Nvidia inconsistent reviews"
   ]
  },
  {
   "cell_type": "code",
   "execution_count": null,
   "metadata": {},
   "outputs": [],
   "source": [
    "for item in list_incon:\n",
    "    if item[2] == 4.0:\n",
    "        item[2] = 'Positive'\n",
    "    else:\n",
    "        item[2] = 'Negative'\n",
    "    print(item)"
   ]
  },
  {
   "cell_type": "markdown",
   "metadata": {},
   "source": [
    "#### Nvidia consistent reviews"
   ]
  },
  {
   "cell_type": "code",
   "execution_count": null,
   "metadata": {},
   "outputs": [],
   "source": [
    "for item in list_con:\n",
    "    if item[2] == 4.0:\n",
    "        item[2] = 'Positive'\n",
    "    else:\n",
    "        item[2] = 'Negative'\n",
    "    print(item)"
   ]
  },
  {
   "cell_type": "markdown",
   "metadata": {},
   "source": [
    "## Summary"
   ]
  },
  {
   "cell_type": "code",
   "execution_count": 86,
   "metadata": {},
   "outputs": [],
   "source": [
    "import matplotlib.pyplot as plt"
   ]
  },
  {
   "cell_type": "code",
   "execution_count": 151,
   "metadata": {},
   "outputs": [
    {
     "data": {
      "image/png": "[encoded data removed]",
      "text/plain": [
       "<Figure size 1440x1080 with 1 Axes>"
      ]
     },
     "metadata": {
      "needs_background": "light"
     },
     "output_type": "display_data"
    }
   ],
   "source": [
    "plt.figure(figsize=(20,15))\n",
    "\n",
    "list_label = [samsung_trust_result[0], \\\n",
    "              apple_trust_result[0], \\\n",
    "              razer_trust_result[0], \\\n",
    "              intel_trust_result[0], \\\n",
    "              nvidia_trust_result[0]]\n",
    "\n",
    "list_trust = [samsung_trust_result[1], \\\n",
    "              apple_trust_result[1], \\\n",
    "              razer_trust_result[1], \\\n",
    "              intel_trust_result[1], \\\n",
    "              nvidia_trust_result[1]]\n",
    "\n",
    "list_avr_rating = [samsung_trust_result[2], \\\n",
    "              apple_trust_result[2], \\\n",
    "              razer_trust_result[2], \\\n",
    "              intel_trust_result[2], \\\n",
    "              nvidia_trust_result[2]]\n",
    "\n",
    "x = range(len(list_label))\n",
    "\n",
    "rects1 = plt.bar(x=x, height=list_trust, width=0.4, alpha=0.8, color='#6699CC', label=\"trust score\")\n",
    "rects2 = plt.bar(x=[i + 0.4 for i in x], height=list_avr_rating, width=0.4, color='#FF6600', label=\"average rating\")\n",
    "plt.ylim(0, 5)\n",
    "plt.ylabel(\"score/rating\")\n",
    "\n",
    "plt.xticks([index + 0.2 for index in x], list_label)\n",
    "plt.xlabel(\"Brand name\")\n",
    "plt.title(\"Five brands' trust score and average score\")\n",
    "plt.legend()\n",
    "\n",
    "for rect in rects1:\n",
    "    height = rect.get_height()\n",
    "    plt.text(rect.get_x() + rect.get_width() / 2, height+1, str(height), ha=\"center\", va=\"bottom\")\n",
    "for rect in rects2:\n",
    "    height = rect.get_height()\n",
    "    plt.text(rect.get_x() + rect.get_width() / 2, height+1, str(height), ha=\"center\", va=\"bottom\")\n",
    "plt.show()"
   ]
  },
  {
   "cell_type": "code",
   "execution_count": 144,
   "metadata": {},
   "outputs": [],
   "source": [
    "def draw_pie(brand_name, int_incon, int_con):\n",
    "    plt.figure(figsize=(20,5))\n",
    "    plt.title(brand_name)\n",
    "    label_list = [\"Inconsistent reviews\", \"Consistent reviews\"]\n",
    "    size = [int_incon, int_con]\n",
    "    color = [\"#FF3333\", \"#66FFCC\"]\n",
    "    explode = [0.05, 0]   # 各部分突出值\n",
    "    patches, l_text, p_text = plt.pie(size, explode=explode, colors=color, labels=label_list, labeldistance=1.1, autopct=\"%1.1f%%\", shadow=False, startangle=90, pctdistance=0.6)\n",
    "    plt.axis(\"equal\")    # 设置横轴和纵轴大小相等，这样饼才是圆的\n",
    "    plt.legend()\n",
    "    plt.show()"
   ]
  },
  {
   "cell_type": "code",
   "execution_count": 146,
   "metadata": {},
   "outputs": [
    {
     "data": {
      "image/png": "[encoded data removed]",
      "text/plain": [
       "<Figure size 1440x360 with 1 Axes>"
      ]
     },
     "metadata": {},
     "output_type": "display_data"
    }
   ],
   "source": [
    "draw_pie('Samsung', int_samsung_incon_len, int_samsung_con_len)"
   ]
  },
  {
   "cell_type": "code",
   "execution_count": 145,
   "metadata": {},
   "outputs": [
    {
     "data": {
      "image/png": "[encoded data removed]",
      "text/plain": [
       "<Figure size 1440x360 with 1 Axes>"
      ]
     },
     "metadata": {},
     "output_type": "display_data"
    }
   ],
   "source": [
    "draw_pie('Apple', int_apple_incon_len, int_apple_con_len)"
   ]
  },
  {
   "cell_type": "code",
   "execution_count": 147,
   "metadata": {},
   "outputs": [
    {
     "data": {
      "image/png": "[encoded data removed]",
      "text/plain": [
       "<Figure size 1440x360 with 1 Axes>"
      ]
     },
     "metadata": {},
     "output_type": "display_data"
    }
   ],
   "source": [
    "draw_pie('Razer', int_razer_incon_len, int_razer_con_len)"
   ]
  },
  {
   "cell_type": "code",
   "execution_count": 148,
   "metadata": {},
   "outputs": [
    {
     "data": {
      "image/png": "[encoded data removed]",
      "text/plain": [
       "<Figure size 1440x360 with 1 Axes>"
      ]
     },
     "metadata": {},
     "output_type": "display_data"
    }
   ],
   "source": [
    "draw_pie('Intel', int_intel_incon_len, int_intel_con_len)"
   ]
  },
  {
   "cell_type": "code",
   "execution_count": 149,
   "metadata": {},
   "outputs": [
    {
     "data": {
      "image/png": "[encoded data removed]",
      "text/plain": [
       "<Figure size 1440x360 with 1 Axes>"
      ]
     },
     "metadata": {},
     "output_type": "display_data"
    }
   ],
   "source": [
    "draw_pie('Nvidia', int_nvidia_incon_len, int_nvidia_con_len)"
   ]
  },
  {
   "cell_type": "markdown",
   "metadata": {},
   "source": [
    "##### From above information, Nvidia's trust score is 4.65 and average rating is 4.36. The ratio of inconsistent reviews and consistent reviews are 18.6% and 81.4%. Obviously, Nvidia has the best trust level from both the trust score, average rating and the ratio of inconsistent and consistent reviews. And from above information, Apple and Razer may has worse trust level compare to the other brands."
   ]
  },
  {
   "cell_type": "code",
   "execution_count": null,
   "metadata": {},
   "outputs": [],
   "source": []
  }
 ],
 "metadata": {
  "kernelspec": {
   "display_name": "Python 3",
   "language": "python",
   "name": "python3"
  },
  "language_info": {
   "codemirror_mode": {
    "name": "ipython",
    "version": 3
   },
   "file_extension": ".py",
   "mimetype": "text/x-python",
   "name": "python",
   "nbconvert_exporter": "python",
   "pygments_lexer": "ipython3",
   "version": "3.7.7"
  }
 },
 "nbformat": 4,
 "nbformat_minor": 4
}
